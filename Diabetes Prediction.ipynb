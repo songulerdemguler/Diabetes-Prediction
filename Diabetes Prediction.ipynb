{
 "cells": [
  {
   "cell_type": "code",
   "execution_count": 1,
   "id": "52b20cd4",
   "metadata": {},
   "outputs": [],
   "source": [
    "# IMPORT LIBRARIES\n",
    "\n",
    "import numpy as np\n",
    "import pandas as pd\n",
    "import seaborn as sns\n",
    "from matplotlib import pyplot as plt\n",
    "# !pip install missingno\n",
    "import missingno as msno\n",
    "from datetime import date\n",
    "from sklearn.metrics import accuracy_score, classification_report, confusion_matrix\n",
    "from sklearn.model_selection import train_test_split\n",
    "from sklearn.neighbors import LocalOutlierFactor\n",
    "from sklearn.impute import KNNImputer\n",
    "from sklearn.preprocessing import MinMaxScaler, LabelEncoder, StandardScaler, RobustScaler\n",
    "import warnings\n",
    "warnings.filterwarnings('ignore')"
   ]
  },
  {
   "cell_type": "markdown",
   "id": "a261ad6c",
   "metadata": {},
   "source": [
    "- Pregnancies:  Hamilelik sayısı\n",
    "- Glucose Oral: glikoz tolerans testinde 2 saatlik plazma glikoz konsantrasyonu\n",
    "- Blood Pressure: Kan Basıncı (Küçük tansiyon) (mm Hg)\n",
    "- SkinThickness: Cilt Kalınlığı\n",
    "- Insulin: 2 saatlik serum insülini (mu U/ml)\n",
    "- DiabetesPedigreeFunction: Fonksiyon (Oral glikoz tolerans testinde 2 saatlik plazma glikoz konsantrasyonu)\n",
    "- BMI: Vücut kitle endeksi\n",
    "- Age: Yaş (yıl)\n",
    "- Outcome: Hastalığa sahip (1) ya da değil (0)"
   ]
  },
  {
   "cell_type": "code",
   "execution_count": 2,
   "id": "d87d6f31",
   "metadata": {},
   "outputs": [],
   "source": [
    "df = pd.read_csv(\"datasets\\diabetes.csv\")"
   ]
  },
  {
   "cell_type": "code",
   "execution_count": 3,
   "id": "951ad2cf",
   "metadata": {},
   "outputs": [
    {
     "data": {
      "text/html": [
       "<div>\n",
       "<style scoped>\n",
       "    .dataframe tbody tr th:only-of-type {\n",
       "        vertical-align: middle;\n",
       "    }\n",
       "\n",
       "    .dataframe tbody tr th {\n",
       "        vertical-align: top;\n",
       "    }\n",
       "\n",
       "    .dataframe thead th {\n",
       "        text-align: right;\n",
       "    }\n",
       "</style>\n",
       "<table border=\"1\" class=\"dataframe\">\n",
       "  <thead>\n",
       "    <tr style=\"text-align: right;\">\n",
       "      <th></th>\n",
       "      <th>Pregnancies</th>\n",
       "      <th>Glucose</th>\n",
       "      <th>BloodPressure</th>\n",
       "      <th>SkinThickness</th>\n",
       "      <th>Insulin</th>\n",
       "      <th>BMI</th>\n",
       "      <th>DiabetesPedigreeFunction</th>\n",
       "      <th>Age</th>\n",
       "      <th>Outcome</th>\n",
       "    </tr>\n",
       "  </thead>\n",
       "  <tbody>\n",
       "    <tr>\n",
       "      <th>0</th>\n",
       "      <td>6</td>\n",
       "      <td>148</td>\n",
       "      <td>72</td>\n",
       "      <td>35</td>\n",
       "      <td>0</td>\n",
       "      <td>33.6</td>\n",
       "      <td>0.627</td>\n",
       "      <td>50</td>\n",
       "      <td>1</td>\n",
       "    </tr>\n",
       "    <tr>\n",
       "      <th>1</th>\n",
       "      <td>1</td>\n",
       "      <td>85</td>\n",
       "      <td>66</td>\n",
       "      <td>29</td>\n",
       "      <td>0</td>\n",
       "      <td>26.6</td>\n",
       "      <td>0.351</td>\n",
       "      <td>31</td>\n",
       "      <td>0</td>\n",
       "    </tr>\n",
       "    <tr>\n",
       "      <th>2</th>\n",
       "      <td>8</td>\n",
       "      <td>183</td>\n",
       "      <td>64</td>\n",
       "      <td>0</td>\n",
       "      <td>0</td>\n",
       "      <td>23.3</td>\n",
       "      <td>0.672</td>\n",
       "      <td>32</td>\n",
       "      <td>1</td>\n",
       "    </tr>\n",
       "    <tr>\n",
       "      <th>3</th>\n",
       "      <td>1</td>\n",
       "      <td>89</td>\n",
       "      <td>66</td>\n",
       "      <td>23</td>\n",
       "      <td>94</td>\n",
       "      <td>28.1</td>\n",
       "      <td>0.167</td>\n",
       "      <td>21</td>\n",
       "      <td>0</td>\n",
       "    </tr>\n",
       "    <tr>\n",
       "      <th>4</th>\n",
       "      <td>0</td>\n",
       "      <td>137</td>\n",
       "      <td>40</td>\n",
       "      <td>35</td>\n",
       "      <td>168</td>\n",
       "      <td>43.1</td>\n",
       "      <td>2.288</td>\n",
       "      <td>33</td>\n",
       "      <td>1</td>\n",
       "    </tr>\n",
       "  </tbody>\n",
       "</table>\n",
       "</div>"
      ],
      "text/plain": [
       "   Pregnancies  Glucose  BloodPressure  SkinThickness  Insulin   BMI  \\\n",
       "0            6      148             72             35        0  33.6   \n",
       "1            1       85             66             29        0  26.6   \n",
       "2            8      183             64              0        0  23.3   \n",
       "3            1       89             66             23       94  28.1   \n",
       "4            0      137             40             35      168  43.1   \n",
       "\n",
       "   DiabetesPedigreeFunction  Age  Outcome  \n",
       "0                     0.627   50        1  \n",
       "1                     0.351   31        0  \n",
       "2                     0.672   32        1  \n",
       "3                     0.167   21        0  \n",
       "4                     2.288   33        1  "
      ]
     },
     "execution_count": 3,
     "metadata": {},
     "output_type": "execute_result"
    }
   ],
   "source": [
    "df.head()"
   ]
  },
  {
   "cell_type": "code",
   "execution_count": 4,
   "id": "28b5bb1f",
   "metadata": {},
   "outputs": [
    {
     "data": {
      "text/plain": [
       "(768, 9)"
      ]
     },
     "execution_count": 4,
     "metadata": {},
     "output_type": "execute_result"
    }
   ],
   "source": [
    "#Shape \n",
    "df.shape"
   ]
  },
  {
   "cell_type": "code",
   "execution_count": 5,
   "id": "cfb46b29",
   "metadata": {},
   "outputs": [
    {
     "data": {
      "text/plain": [
       "Pregnancies                 0\n",
       "Glucose                     0\n",
       "BloodPressure               0\n",
       "SkinThickness               0\n",
       "Insulin                     0\n",
       "BMI                         0\n",
       "DiabetesPedigreeFunction    0\n",
       "Age                         0\n",
       "Outcome                     0\n",
       "dtype: int64"
      ]
     },
     "execution_count": 5,
     "metadata": {},
     "output_type": "execute_result"
    }
   ],
   "source": [
    "#Check missing values\n",
    "df.isnull().sum()"
   ]
  },
  {
   "cell_type": "code",
   "execution_count": 6,
   "id": "c661f802",
   "metadata": {},
   "outputs": [
    {
     "data": {
      "text/html": [
       "<div>\n",
       "<style scoped>\n",
       "    .dataframe tbody tr th:only-of-type {\n",
       "        vertical-align: middle;\n",
       "    }\n",
       "\n",
       "    .dataframe tbody tr th {\n",
       "        vertical-align: top;\n",
       "    }\n",
       "\n",
       "    .dataframe thead th {\n",
       "        text-align: right;\n",
       "    }\n",
       "</style>\n",
       "<table border=\"1\" class=\"dataframe\">\n",
       "  <thead>\n",
       "    <tr style=\"text-align: right;\">\n",
       "      <th></th>\n",
       "      <th>0.00</th>\n",
       "      <th>0.05</th>\n",
       "      <th>0.50</th>\n",
       "      <th>0.95</th>\n",
       "      <th>0.99</th>\n",
       "      <th>1.00</th>\n",
       "    </tr>\n",
       "  </thead>\n",
       "  <tbody>\n",
       "    <tr>\n",
       "      <th>Pregnancies</th>\n",
       "      <td>0.000</td>\n",
       "      <td>0.00000</td>\n",
       "      <td>3.0000</td>\n",
       "      <td>10.00000</td>\n",
       "      <td>13.00000</td>\n",
       "      <td>17.00</td>\n",
       "    </tr>\n",
       "    <tr>\n",
       "      <th>Glucose</th>\n",
       "      <td>0.000</td>\n",
       "      <td>79.00000</td>\n",
       "      <td>117.0000</td>\n",
       "      <td>181.00000</td>\n",
       "      <td>196.00000</td>\n",
       "      <td>199.00</td>\n",
       "    </tr>\n",
       "    <tr>\n",
       "      <th>BloodPressure</th>\n",
       "      <td>0.000</td>\n",
       "      <td>38.70000</td>\n",
       "      <td>72.0000</td>\n",
       "      <td>90.00000</td>\n",
       "      <td>106.00000</td>\n",
       "      <td>122.00</td>\n",
       "    </tr>\n",
       "    <tr>\n",
       "      <th>SkinThickness</th>\n",
       "      <td>0.000</td>\n",
       "      <td>0.00000</td>\n",
       "      <td>23.0000</td>\n",
       "      <td>44.00000</td>\n",
       "      <td>51.33000</td>\n",
       "      <td>99.00</td>\n",
       "    </tr>\n",
       "    <tr>\n",
       "      <th>Insulin</th>\n",
       "      <td>0.000</td>\n",
       "      <td>0.00000</td>\n",
       "      <td>30.5000</td>\n",
       "      <td>293.00000</td>\n",
       "      <td>519.90000</td>\n",
       "      <td>846.00</td>\n",
       "    </tr>\n",
       "    <tr>\n",
       "      <th>BMI</th>\n",
       "      <td>0.000</td>\n",
       "      <td>21.80000</td>\n",
       "      <td>32.0000</td>\n",
       "      <td>44.39500</td>\n",
       "      <td>50.75900</td>\n",
       "      <td>67.10</td>\n",
       "    </tr>\n",
       "    <tr>\n",
       "      <th>DiabetesPedigreeFunction</th>\n",
       "      <td>0.078</td>\n",
       "      <td>0.14035</td>\n",
       "      <td>0.3725</td>\n",
       "      <td>1.13285</td>\n",
       "      <td>1.69833</td>\n",
       "      <td>2.42</td>\n",
       "    </tr>\n",
       "    <tr>\n",
       "      <th>Age</th>\n",
       "      <td>21.000</td>\n",
       "      <td>21.00000</td>\n",
       "      <td>29.0000</td>\n",
       "      <td>58.00000</td>\n",
       "      <td>67.00000</td>\n",
       "      <td>81.00</td>\n",
       "    </tr>\n",
       "    <tr>\n",
       "      <th>Outcome</th>\n",
       "      <td>0.000</td>\n",
       "      <td>0.00000</td>\n",
       "      <td>0.0000</td>\n",
       "      <td>1.00000</td>\n",
       "      <td>1.00000</td>\n",
       "      <td>1.00</td>\n",
       "    </tr>\n",
       "  </tbody>\n",
       "</table>\n",
       "</div>"
      ],
      "text/plain": [
       "                            0.00      0.05      0.50       0.95       0.99  \\\n",
       "Pregnancies                0.000   0.00000    3.0000   10.00000   13.00000   \n",
       "Glucose                    0.000  79.00000  117.0000  181.00000  196.00000   \n",
       "BloodPressure              0.000  38.70000   72.0000   90.00000  106.00000   \n",
       "SkinThickness              0.000   0.00000   23.0000   44.00000   51.33000   \n",
       "Insulin                    0.000   0.00000   30.5000  293.00000  519.90000   \n",
       "BMI                        0.000  21.80000   32.0000   44.39500   50.75900   \n",
       "DiabetesPedigreeFunction   0.078   0.14035    0.3725    1.13285    1.69833   \n",
       "Age                       21.000  21.00000   29.0000   58.00000   67.00000   \n",
       "Outcome                    0.000   0.00000    0.0000    1.00000    1.00000   \n",
       "\n",
       "                            1.00  \n",
       "Pregnancies                17.00  \n",
       "Glucose                   199.00  \n",
       "BloodPressure             122.00  \n",
       "SkinThickness              99.00  \n",
       "Insulin                   846.00  \n",
       "BMI                        67.10  \n",
       "DiabetesPedigreeFunction    2.42  \n",
       "Age                        81.00  \n",
       "Outcome                     1.00  "
      ]
     },
     "execution_count": 6,
     "metadata": {},
     "output_type": "execute_result"
    }
   ],
   "source": [
    "# Quantiles\n",
    "df.quantile([0, 0.05, 0.50, 0.95, 0.99, 1]).T"
   ]
  },
  {
   "cell_type": "markdown",
   "id": "af51cfb2",
   "metadata": {},
   "source": [
    "## Check Columns (Categorical or Numeric)"
   ]
  },
  {
   "cell_type": "code",
   "execution_count": 7,
   "id": "90d558fb",
   "metadata": {},
   "outputs": [
    {
     "name": "stdout",
     "output_type": "stream",
     "text": [
      "Observations: 768\n",
      "Variables: 9\n",
      "cat_cols: 1\n",
      "num_cols: 8\n",
      "cat_but_car: 0\n",
      "num_but_cat: 1\n"
     ]
    }
   ],
   "source": [
    "def grab_col_names(dataframe, cat_th=10, car_th=20):\n",
    "    \"\"\"\n",
    "\n",
    "    It gives the names of categorical, numerical, and categorical but cardinal variables in the data set.\n",
    "    Note: Categorical variables with numerical appearance are also included in categorical variables.\n",
    "\n",
    "    Parameters\n",
    "    ------\n",
    "        dataframe: dataframe\n",
    "        cat_th: int, optional\n",
    "                the class threshold for numeric but categorical variables\n",
    "        car_th: int, optinal\n",
    "                the class threshold for categorical but cardinal variables\n",
    "\n",
    "    Returns\n",
    "    ------\n",
    "        cat_cols: list\n",
    "                Categorical Variables List\n",
    "        num_cols: list\n",
    "                Numeric Variables List\n",
    "        cat_but_car: list\n",
    "                Categorical but cardinal variables list\n",
    "\n",
    "    Examples\n",
    "    ------\n",
    "        import seaborn as sns\n",
    "        df = sns.load_dataset(\"iris\")\n",
    "        print(grab_col_names(df))\n",
    "\n",
    "\n",
    "    Notes\n",
    "    ------\n",
    "        cat_cols + num_cols + cat_but_car = total number of variables\n",
    "        num_but_cat is in cat_cols\n",
    "\n",
    "    \"\"\"\n",
    "\n",
    "    # cat_cols, cat_but_car\n",
    "    cat_cols = [col for col in dataframe.columns if dataframe[col].dtypes == \"O\"]\n",
    "    num_but_cat = [col for col in dataframe.columns if dataframe[col].nunique() < cat_th and\n",
    "                   dataframe[col].dtypes != \"O\"]\n",
    "    cat_but_car = [col for col in dataframe.columns if dataframe[col].nunique() > car_th and\n",
    "                   dataframe[col].dtypes == \"O\"]\n",
    "    cat_cols = cat_cols + num_but_cat\n",
    "    cat_cols = [col for col in cat_cols if col not in cat_but_car]\n",
    "\n",
    "    # num_cols\n",
    "    num_cols = [col for col in dataframe.columns if dataframe[col].dtypes != \"O\"]\n",
    "    num_cols = [col for col in num_cols if col not in num_but_cat]\n",
    "\n",
    "    print(f\"Observations: {dataframe.shape[0]}\")\n",
    "    print(f\"Variables: {dataframe.shape[1]}\")\n",
    "    print(f'cat_cols: {len(cat_cols)}')\n",
    "    print(f'num_cols: {len(num_cols)}')\n",
    "    print(f'cat_but_car: {len(cat_but_car)}')\n",
    "    print(f'num_but_cat: {len(num_but_cat)}')\n",
    "    return cat_cols, num_cols, cat_but_car\n",
    "\n",
    "cat_cols, num_cols, cat_but_car = grab_col_names(df)"
   ]
  },
  {
   "cell_type": "code",
   "execution_count": 8,
   "id": "d6605f7a",
   "metadata": {},
   "outputs": [
    {
     "data": {
      "text/plain": [
       "['Outcome']"
      ]
     },
     "execution_count": 8,
     "metadata": {},
     "output_type": "execute_result"
    }
   ],
   "source": [
    "cat_cols"
   ]
  },
  {
   "cell_type": "code",
   "execution_count": 9,
   "id": "0856283a",
   "metadata": {},
   "outputs": [
    {
     "name": "stdout",
     "output_type": "stream",
     "text": [
      "   Outcome      Ratio\n",
      "0      500  65.104167\n",
      "1      268  34.895833\n"
     ]
    },
    {
     "data": {
      "image/png": "[encoded data removed]",
      "text/plain": [
       "<Figure size 432x288 with 1 Axes>"
      ]
     },
     "metadata": {
      "needs_background": "light"
     },
     "output_type": "display_data"
    }
   ],
   "source": [
    "# SUMMARY CATEGORICAL COLUMNS\n",
    "def cat_summary(dataframe, col_name, plot=False):\n",
    "    print(pd.DataFrame({col_name: dataframe[col_name].value_counts(),\n",
    "                        \"Ratio\": 100 * dataframe[col_name].value_counts() / len(dataframe)}))\n",
    "    if plot:\n",
    "        sns.countplot(x=dataframe[col_name], data=dataframe)\n",
    "        plt.show()\n",
    "\n",
    "\n",
    "for i in cat_cols:\n",
    "    cat_summary(df, i, plot=True)\n"
   ]
  },
  {
   "cell_type": "code",
   "execution_count": 10,
   "id": "ea7a6f31",
   "metadata": {},
   "outputs": [
    {
     "data": {
      "text/plain": [
       "['Pregnancies',\n",
       " 'Glucose',\n",
       " 'BloodPressure',\n",
       " 'SkinThickness',\n",
       " 'Insulin',\n",
       " 'BMI',\n",
       " 'DiabetesPedigreeFunction',\n",
       " 'Age']"
      ]
     },
     "execution_count": 10,
     "metadata": {},
     "output_type": "execute_result"
    }
   ],
   "source": [
    "num_cols"
   ]
  },
  {
   "cell_type": "code",
   "execution_count": 11,
   "id": "cb2a9fed",
   "metadata": {},
   "outputs": [],
   "source": [
    "# SUMMARY NUMERİC COLUMNS\n",
    "def num_summary(dataframe, numerical_col, plot=False):\n",
    "    quantiles = [0.05, 0.10, 0.20, 0.30, 0.40, 0.50, 0.60, 0.70, 0.80, 0.90, 0.95, 0.99]\n",
    "    print(dataframe[numerical_col].describe(quantiles).T)\n",
    "\n",
    "    if plot:\n",
    "        dataframe[numerical_col].hist(bins=50)\n",
    "        plt.xlabel(numerical_col)\n",
    "        plt.title(numerical_col)\n",
    "        plt.show()\n",
    "\n",
    "    print(\"#####################################\")\n"
   ]
  },
  {
   "cell_type": "code",
   "execution_count": 12,
   "id": "0a8cfbd7",
   "metadata": {},
   "outputs": [
    {
     "name": "stdout",
     "output_type": "stream",
     "text": [
      "count    768.000000\n",
      "mean       3.845052\n",
      "std        3.369578\n",
      "min        0.000000\n",
      "5%         0.000000\n",
      "10%        0.000000\n",
      "20%        1.000000\n",
      "30%        1.000000\n",
      "40%        2.000000\n",
      "50%        3.000000\n",
      "60%        4.000000\n",
      "70%        5.000000\n",
      "80%        7.000000\n",
      "90%        9.000000\n",
      "95%       10.000000\n",
      "99%       13.000000\n",
      "max       17.000000\n",
      "Name: Pregnancies, dtype: float64\n"
     ]
    },
    {
     "data": {
      "image/png": "[encoded data removed]",
      "text/plain": [
       "<Figure size 432x288 with 1 Axes>"
      ]
     },
     "metadata": {
      "needs_background": "light"
     },
     "output_type": "display_data"
    },
    {
     "name": "stdout",
     "output_type": "stream",
     "text": [
      "#####################################\n",
      "count    768.000000\n",
      "mean     120.894531\n",
      "std       31.972618\n",
      "min        0.000000\n",
      "5%        79.000000\n",
      "10%       85.000000\n",
      "20%       95.000000\n",
      "30%      102.000000\n",
      "40%      109.000000\n",
      "50%      117.000000\n",
      "60%      125.000000\n",
      "70%      134.000000\n",
      "80%      147.000000\n",
      "90%      167.000000\n",
      "95%      181.000000\n",
      "99%      196.000000\n",
      "max      199.000000\n",
      "Name: Glucose, dtype: float64\n"
     ]
    },
    {
     "data": {
      "image/png": "[encoded data removed]",
      "text/plain": [
       "<Figure size 432x288 with 1 Axes>"
      ]
     },
     "metadata": {
      "needs_background": "light"
     },
     "output_type": "display_data"
    },
    {
     "name": "stdout",
     "output_type": "stream",
     "text": [
      "#####################################\n",
      "count    768.000000\n",
      "mean      69.105469\n",
      "std       19.355807\n",
      "min        0.000000\n",
      "5%        38.700000\n",
      "10%       54.000000\n",
      "20%       60.000000\n",
      "30%       64.000000\n",
      "40%       68.000000\n",
      "50%       72.000000\n",
      "60%       74.000000\n",
      "70%       78.000000\n",
      "80%       82.000000\n",
      "90%       88.000000\n",
      "95%       90.000000\n",
      "99%      106.000000\n",
      "max      122.000000\n",
      "Name: BloodPressure, dtype: float64\n"
     ]
    },
    {
     "data": {
      "image/png": "[encoded data removed]",
      "text/plain": [
       "<Figure size 432x288 with 1 Axes>"
      ]
     },
     "metadata": {
      "needs_background": "light"
     },
     "output_type": "display_data"
    },
    {
     "name": "stdout",
     "output_type": "stream",
     "text": [
      "#####################################\n",
      "count    768.000000\n",
      "mean      20.536458\n",
      "std       15.952218\n",
      "min        0.000000\n",
      "5%         0.000000\n",
      "10%        0.000000\n",
      "20%        0.000000\n",
      "30%        8.200000\n",
      "40%       18.000000\n",
      "50%       23.000000\n",
      "60%       27.000000\n",
      "70%       31.000000\n",
      "80%       35.000000\n",
      "90%       40.000000\n",
      "95%       44.000000\n",
      "99%       51.330000\n",
      "max       99.000000\n",
      "Name: SkinThickness, dtype: float64\n"
     ]
    },
    {
     "data": {
      "image/png": "[encoded data removed]",
      "text/plain": [
       "<Figure size 432x288 with 1 Axes>"
      ]
     },
     "metadata": {
      "needs_background": "light"
     },
     "output_type": "display_data"
    },
    {
     "name": "stdout",
     "output_type": "stream",
     "text": [
      "#####################################\n",
      "count    768.000000\n",
      "mean      79.799479\n",
      "std      115.244002\n",
      "min        0.000000\n",
      "5%         0.000000\n",
      "10%        0.000000\n",
      "20%        0.000000\n",
      "30%        0.000000\n",
      "40%        0.000000\n",
      "50%       30.500000\n",
      "60%       72.200000\n",
      "70%      106.000000\n",
      "80%      150.000000\n",
      "90%      210.000000\n",
      "95%      293.000000\n",
      "99%      519.900000\n",
      "max      846.000000\n",
      "Name: Insulin, dtype: float64\n"
     ]
    },
    {
     "data": {
      "image/png": "[encoded data removed]",
      "text/plain": [
       "<Figure size 432x288 with 1 Axes>"
      ]
     },
     "metadata": {
      "needs_background": "light"
     },
     "output_type": "display_data"
    },
    {
     "name": "stdout",
     "output_type": "stream",
     "text": [
      "#####################################\n",
      "count    768.000000\n",
      "mean      31.992578\n",
      "std        7.884160\n",
      "min        0.000000\n",
      "5%        21.800000\n",
      "10%       23.600000\n",
      "20%       25.900000\n",
      "30%       28.200000\n",
      "40%       30.100000\n",
      "50%       32.000000\n",
      "60%       33.700000\n",
      "70%       35.490000\n",
      "80%       37.800000\n",
      "90%       41.500000\n",
      "95%       44.395000\n",
      "99%       50.759000\n",
      "max       67.100000\n",
      "Name: BMI, dtype: float64\n"
     ]
    },
    {
     "data": {
      "image/png": "[encoded data removed]",
      "text/plain": [
       "<Figure size 432x288 with 1 Axes>"
      ]
     },
     "metadata": {
      "needs_background": "light"
     },
     "output_type": "display_data"
    },
    {
     "name": "stdout",
     "output_type": "stream",
     "text": [
      "#####################################\n",
      "count    768.000000\n",
      "mean       0.471876\n",
      "std        0.331329\n",
      "min        0.078000\n",
      "5%         0.140350\n",
      "10%        0.165000\n",
      "20%        0.219400\n",
      "30%        0.259000\n",
      "40%        0.302800\n",
      "50%        0.372500\n",
      "60%        0.454200\n",
      "70%        0.563700\n",
      "80%        0.687000\n",
      "90%        0.878600\n",
      "95%        1.132850\n",
      "99%        1.698330\n",
      "max        2.420000\n",
      "Name: DiabetesPedigreeFunction, dtype: float64\n"
     ]
    },
    {
     "data": {
      "image/png": "[encoded data removed]",
      "text/plain": [
       "<Figure size 432x288 with 1 Axes>"
      ]
     },
     "metadata": {
      "needs_background": "light"
     },
     "output_type": "display_data"
    },
    {
     "name": "stdout",
     "output_type": "stream",
     "text": [
      "#####################################\n",
      "count    768.000000\n",
      "mean      33.240885\n",
      "std       11.760232\n",
      "min       21.000000\n",
      "5%        21.000000\n",
      "10%       22.000000\n",
      "20%       23.000000\n",
      "30%       25.000000\n",
      "40%       27.000000\n",
      "50%       29.000000\n",
      "60%       33.000000\n",
      "70%       38.000000\n",
      "80%       42.600000\n",
      "90%       51.000000\n",
      "95%       58.000000\n",
      "99%       67.000000\n",
      "max       81.000000\n",
      "Name: Age, dtype: float64\n"
     ]
    },
    {
     "data": {
      "image/png": "[encoded data removed]",
      "text/plain": [
       "<Figure size 432x288 with 1 Axes>"
      ]
     },
     "metadata": {
      "needs_background": "light"
     },
     "output_type": "display_data"
    },
    {
     "name": "stdout",
     "output_type": "stream",
     "text": [
      "#####################################\n"
     ]
    }
   ],
   "source": [
    "for col in num_cols:\n",
    "    num_summary(df, col, plot=True)"
   ]
  },
  {
   "cell_type": "code",
   "execution_count": 13,
   "id": "29bf6653",
   "metadata": {},
   "outputs": [],
   "source": [
    "def target_summary_with_num(dataframe, target, numerical_col):\n",
    "    print(dataframe.groupby(target).agg({numerical_col: \"mean\"}), end=\"\\n\\n\\n\")\n"
   ]
  },
  {
   "cell_type": "code",
   "execution_count": 14,
   "id": "72e6379e",
   "metadata": {},
   "outputs": [
    {
     "name": "stdout",
     "output_type": "stream",
     "text": [
      "         Pregnancies\n",
      "Outcome             \n",
      "0           3.298000\n",
      "1           4.865672\n",
      "\n",
      "\n",
      "            Glucose\n",
      "Outcome            \n",
      "0        109.980000\n",
      "1        141.257463\n",
      "\n",
      "\n",
      "         BloodPressure\n",
      "Outcome               \n",
      "0            68.184000\n",
      "1            70.824627\n",
      "\n",
      "\n",
      "         SkinThickness\n",
      "Outcome               \n",
      "0            19.664000\n",
      "1            22.164179\n",
      "\n",
      "\n",
      "            Insulin\n",
      "Outcome            \n",
      "0         68.792000\n",
      "1        100.335821\n",
      "\n",
      "\n",
      "               BMI\n",
      "Outcome           \n",
      "0        30.304200\n",
      "1        35.142537\n",
      "\n",
      "\n",
      "         DiabetesPedigreeFunction\n",
      "Outcome                          \n",
      "0                        0.429734\n",
      "1                        0.550500\n",
      "\n",
      "\n",
      "               Age\n",
      "Outcome           \n",
      "0        31.190000\n",
      "1        37.067164\n",
      "\n",
      "\n"
     ]
    }
   ],
   "source": [
    "for col in num_cols:\n",
    "    target_summary_with_num(df, \"Outcome\", col)"
   ]
  },
  {
   "cell_type": "markdown",
   "id": "f5e1f2cd",
   "metadata": {},
   "source": [
    "# DATA PREPROCESSING"
   ]
  },
  {
   "cell_type": "markdown",
   "id": "b6daa071",
   "metadata": {},
   "source": [
    "## OUTLIERS"
   ]
  },
  {
   "cell_type": "code",
   "execution_count": 15,
   "id": "55b7987e",
   "metadata": {},
   "outputs": [],
   "source": [
    "def outlier_thresholds(dataframe, col_name, q1=0.25, q3=0.75):\n",
    "    quartile1 = dataframe[col_name].quantile(q1)\n",
    "    quartile3 = dataframe[col_name].quantile(q3)\n",
    "    interquantile_range = quartile3 - quartile1\n",
    "    up_limit = quartile3 + 1.5 * interquantile_range\n",
    "    low_limit = quartile1 - 1.5 * interquantile_range\n",
    "    return low_limit, up_limit\n",
    "\n",
    "\n",
    "def check_outlier(dataframe, col_name):\n",
    "    low_limit, up_limit = outlier_thresholds(dataframe, col_name)\n",
    "    if dataframe[(dataframe[col_name] > up_limit) | (dataframe[col_name] < low_limit)].any(axis=None):\n",
    "        return True\n",
    "    else:\n",
    "        return False"
   ]
  },
  {
   "cell_type": "code",
   "execution_count": 16,
   "id": "a72ab7bc",
   "metadata": {},
   "outputs": [
    {
     "name": "stdout",
     "output_type": "stream",
     "text": [
      "Pregnancies : True\n",
      "Glucose : True\n",
      "BloodPressure : True\n",
      "SkinThickness : True\n",
      "Insulin : True\n",
      "BMI : True\n",
      "DiabetesPedigreeFunction : True\n",
      "Age : True\n"
     ]
    }
   ],
   "source": [
    "for col in num_cols:\n",
    "    print(f\"{col} : {check_outlier(df,col)}\")"
   ]
  },
  {
   "cell_type": "code",
   "execution_count": 17,
   "id": "9b697524",
   "metadata": {},
   "outputs": [],
   "source": [
    "def grab_outliers(dataframe, col_name, index=False):\n",
    "    low, up = outlier_thresholds(dataframe, col_name)\n",
    "\n",
    "    if dataframe[((dataframe[col_name] < low) | (dataframe[col_name] > up))].shape[0] > 10:\n",
    "        print(dataframe[((dataframe[col_name] < low) | (dataframe[col_name] > up))].head())\n",
    "    else:\n",
    "        print(dataframe[((dataframe[col_name] < low) | (dataframe[col_name] > up))])\n",
    "\n",
    "    if index:\n",
    "        outlier_index = dataframe[((dataframe[col_name] < low) | (dataframe[col_name] > up))].index\n",
    "        return outlier_index"
   ]
  },
  {
   "cell_type": "code",
   "execution_count": 18,
   "id": "dc287eb5",
   "metadata": {},
   "outputs": [
    {
     "name": "stdout",
     "output_type": "stream",
     "text": [
      "     Pregnancies  Glucose  BloodPressure  SkinThickness  Insulin   BMI  \\\n",
      "88            15      136             70             32      110  37.1   \n",
      "159           17      163             72             41      114  40.9   \n",
      "298           14      100             78             25      184  36.6   \n",
      "455           14      175             62             30        0  33.6   \n",
      "\n",
      "     DiabetesPedigreeFunction  Age  Outcome  \n",
      "88                      0.153   43        1  \n",
      "159                     0.817   47        1  \n",
      "298                     0.412   46        1  \n",
      "455                     0.212   38        1  \n",
      "     Pregnancies  Glucose  BloodPressure  SkinThickness  Insulin   BMI  \\\n",
      "75             1        0             48             20        0  24.7   \n",
      "182            1        0             74             20       23  27.7   \n",
      "342            1        0             68             35        0  32.0   \n",
      "349            5        0             80             32        0  41.0   \n",
      "502            6        0             68             41        0  39.0   \n",
      "\n",
      "     DiabetesPedigreeFunction  Age  Outcome  \n",
      "75                      0.140   22        0  \n",
      "182                     0.299   21        0  \n",
      "342                     0.389   22        0  \n",
      "349                     0.346   37        1  \n",
      "502                     0.727   41        1  \n",
      "    Pregnancies  Glucose  BloodPressure  SkinThickness  Insulin   BMI  \\\n",
      "7            10      115              0              0        0  35.3   \n",
      "15            7      100              0              0        0  30.0   \n",
      "18            1      103             30             38       83  43.3   \n",
      "43            9      171            110             24      240  45.4   \n",
      "49            7      105              0              0        0   0.0   \n",
      "\n",
      "    DiabetesPedigreeFunction  Age  Outcome  \n",
      "7                      0.134   29        0  \n",
      "15                     0.484   32        1  \n",
      "18                     0.183   33        0  \n",
      "43                     0.721   54        1  \n",
      "49                     0.305   24        0  \n",
      "     Pregnancies  Glucose  BloodPressure  SkinThickness  Insulin   BMI  \\\n",
      "579            2      197             70             99        0  34.7   \n",
      "\n",
      "     DiabetesPedigreeFunction  Age  Outcome  \n",
      "579                     0.575   62        1  \n",
      "     Pregnancies  Glucose  BloodPressure  SkinThickness  Insulin   BMI  \\\n",
      "8              2      197             70             45      543  30.5   \n",
      "13             1      189             60             23      846  30.1   \n",
      "54             7      150             66             42      342  34.7   \n",
      "111            8      155             62             26      495  34.0   \n",
      "139            5      105             72             29      325  36.9   \n",
      "\n",
      "     DiabetesPedigreeFunction  Age  Outcome  \n",
      "8                       0.158   53        1  \n",
      "13                      0.398   59        1  \n",
      "54                      0.718   42        0  \n",
      "111                     0.543   46        1  \n",
      "139                     0.159   28        0  \n",
      "     Pregnancies  Glucose  BloodPressure  SkinThickness  Insulin   BMI  \\\n",
      "9              8      125             96              0        0   0.0   \n",
      "49             7      105              0              0        0   0.0   \n",
      "60             2       84              0              0        0   0.0   \n",
      "81             2       74              0              0        0   0.0   \n",
      "120            0      162             76             56      100  53.2   \n",
      "\n",
      "     DiabetesPedigreeFunction  Age  Outcome  \n",
      "9                       0.232   54        1  \n",
      "49                      0.305   24        0  \n",
      "60                      0.304   21        0  \n",
      "81                      0.102   22        0  \n",
      "120                     0.759   25        1  \n",
      "    Pregnancies  Glucose  BloodPressure  SkinThickness  Insulin   BMI  \\\n",
      "4             0      137             40             35      168  43.1   \n",
      "12           10      139             80              0        0  27.1   \n",
      "39            4      111             72             47      207  37.1   \n",
      "45            0      180             66             39        0  42.0   \n",
      "58            0      146             82              0        0  40.5   \n",
      "\n",
      "    DiabetesPedigreeFunction  Age  Outcome  \n",
      "4                      2.288   33        1  \n",
      "12                     1.441   57        0  \n",
      "39                     1.390   56        1  \n",
      "45                     1.893   25        1  \n",
      "58                     1.781   44        0  \n",
      "     Pregnancies  Glucose  BloodPressure  SkinThickness  Insulin   BMI  \\\n",
      "123            5      132             80              0        0  26.8   \n",
      "363            4      146             78              0        0  38.5   \n",
      "453            2      119              0              0        0  19.6   \n",
      "459            9      134             74             33       60  25.9   \n",
      "489            8      194             80              0        0  26.1   \n",
      "537            0       57             60              0        0  21.7   \n",
      "666            4      145             82             18        0  32.5   \n",
      "674            8       91             82              0        0  35.6   \n",
      "684            5      136             82              0        0   0.0   \n",
      "\n",
      "     DiabetesPedigreeFunction  Age  Outcome  \n",
      "123                     0.186   69        0  \n",
      "363                     0.520   67        1  \n",
      "453                     0.832   72        0  \n",
      "459                     0.460   81        0  \n",
      "489                     0.551   67        0  \n",
      "537                     0.735   67        0  \n",
      "666                     0.235   70        1  \n",
      "674                     0.587   68        0  \n",
      "684                     0.640   69        0  \n"
     ]
    }
   ],
   "source": [
    "for col in num_cols:\n",
    "    col, grab_outliers(df, col)"
   ]
  },
  {
   "cell_type": "code",
   "execution_count": 19,
   "id": "a255f1d7",
   "metadata": {},
   "outputs": [
    {
     "name": "stdout",
     "output_type": "stream",
     "text": [
      "     Pregnancies  Glucose  BloodPressure  SkinThickness  Insulin   BMI  \\\n",
      "123            5      132             80              0        0  26.8   \n",
      "363            4      146             78              0        0  38.5   \n",
      "453            2      119              0              0        0  19.6   \n",
      "459            9      134             74             33       60  25.9   \n",
      "489            8      194             80              0        0  26.1   \n",
      "537            0       57             60              0        0  21.7   \n",
      "666            4      145             82             18        0  32.5   \n",
      "674            8       91             82              0        0  35.6   \n",
      "684            5      136             82              0        0   0.0   \n",
      "\n",
      "     DiabetesPedigreeFunction  Age  Outcome  \n",
      "123                     0.186   69        0  \n",
      "363                     0.520   67        1  \n",
      "453                     0.832   72        0  \n",
      "459                     0.460   81        0  \n",
      "489                     0.551   67        0  \n",
      "537                     0.735   67        0  \n",
      "666                     0.235   70        1  \n",
      "674                     0.587   68        0  \n",
      "684                     0.640   69        0  \n"
     ]
    }
   ],
   "source": [
    "threshold = grab_outliers(df, col)"
   ]
  },
  {
   "cell_type": "code",
   "execution_count": 20,
   "id": "078e9f90",
   "metadata": {},
   "outputs": [],
   "source": [
    "def replace_with_thresholds(dataframe, variable):\n",
    "    low_limit, up_limit = outlier_thresholds(dataframe, variable)\n",
    "    dataframe.loc[(dataframe[variable] < low_limit), variable] = low_limit\n",
    "    dataframe.loc[(dataframe[variable] > up_limit), variable] = up_limit\n"
   ]
  },
  {
   "cell_type": "code",
   "execution_count": 21,
   "id": "79041800",
   "metadata": {},
   "outputs": [],
   "source": [
    "for col in num_cols:\n",
    "    replace_with_thresholds(df, col)"
   ]
  },
  {
   "cell_type": "markdown",
   "id": "7c1bfd03",
   "metadata": {},
   "source": [
    "## MISSING VALUES"
   ]
  },
  {
   "cell_type": "code",
   "execution_count": 22,
   "id": "cf42edea",
   "metadata": {},
   "outputs": [
    {
     "data": {
      "text/html": [
       "<div>\n",
       "<style scoped>\n",
       "    .dataframe tbody tr th:only-of-type {\n",
       "        vertical-align: middle;\n",
       "    }\n",
       "\n",
       "    .dataframe tbody tr th {\n",
       "        vertical-align: top;\n",
       "    }\n",
       "\n",
       "    .dataframe thead th {\n",
       "        text-align: right;\n",
       "    }\n",
       "</style>\n",
       "<table border=\"1\" class=\"dataframe\">\n",
       "  <thead>\n",
       "    <tr style=\"text-align: right;\">\n",
       "      <th></th>\n",
       "      <th>Pregnancies</th>\n",
       "      <th>Glucose</th>\n",
       "      <th>BloodPressure</th>\n",
       "      <th>SkinThickness</th>\n",
       "      <th>Insulin</th>\n",
       "      <th>BMI</th>\n",
       "      <th>DiabetesPedigreeFunction</th>\n",
       "      <th>Age</th>\n",
       "      <th>Outcome</th>\n",
       "    </tr>\n",
       "  </thead>\n",
       "  <tbody>\n",
       "    <tr>\n",
       "      <th>0</th>\n",
       "      <td>6.0</td>\n",
       "      <td>148.0</td>\n",
       "      <td>72.0</td>\n",
       "      <td>35.0</td>\n",
       "      <td>244.45</td>\n",
       "      <td>33.6</td>\n",
       "      <td>0.627</td>\n",
       "      <td>50.0</td>\n",
       "      <td>1.0</td>\n",
       "    </tr>\n",
       "    <tr>\n",
       "      <th>1</th>\n",
       "      <td>1.0</td>\n",
       "      <td>85.0</td>\n",
       "      <td>66.0</td>\n",
       "      <td>29.0</td>\n",
       "      <td>56.20</td>\n",
       "      <td>26.6</td>\n",
       "      <td>0.351</td>\n",
       "      <td>31.0</td>\n",
       "      <td>0.0</td>\n",
       "    </tr>\n",
       "    <tr>\n",
       "      <th>2</th>\n",
       "      <td>8.0</td>\n",
       "      <td>183.0</td>\n",
       "      <td>64.0</td>\n",
       "      <td>32.2</td>\n",
       "      <td>222.45</td>\n",
       "      <td>23.3</td>\n",
       "      <td>0.672</td>\n",
       "      <td>32.0</td>\n",
       "      <td>1.0</td>\n",
       "    </tr>\n",
       "    <tr>\n",
       "      <th>3</th>\n",
       "      <td>1.0</td>\n",
       "      <td>89.0</td>\n",
       "      <td>66.0</td>\n",
       "      <td>23.0</td>\n",
       "      <td>94.00</td>\n",
       "      <td>28.1</td>\n",
       "      <td>0.167</td>\n",
       "      <td>21.0</td>\n",
       "      <td>0.0</td>\n",
       "    </tr>\n",
       "    <tr>\n",
       "      <th>4</th>\n",
       "      <td>0.0</td>\n",
       "      <td>137.0</td>\n",
       "      <td>40.0</td>\n",
       "      <td>35.0</td>\n",
       "      <td>168.00</td>\n",
       "      <td>43.1</td>\n",
       "      <td>1.200</td>\n",
       "      <td>33.0</td>\n",
       "      <td>1.0</td>\n",
       "    </tr>\n",
       "  </tbody>\n",
       "</table>\n",
       "</div>"
      ],
      "text/plain": [
       "   Pregnancies  Glucose  BloodPressure  SkinThickness  Insulin   BMI  \\\n",
       "0          6.0    148.0           72.0           35.0   244.45  33.6   \n",
       "1          1.0     85.0           66.0           29.0    56.20  26.6   \n",
       "2          8.0    183.0           64.0           32.2   222.45  23.3   \n",
       "3          1.0     89.0           66.0           23.0    94.00  28.1   \n",
       "4          0.0    137.0           40.0           35.0   168.00  43.1   \n",
       "\n",
       "   DiabetesPedigreeFunction   Age  Outcome  \n",
       "0                     0.627  50.0      1.0  \n",
       "1                     0.351  31.0      0.0  \n",
       "2                     0.672  32.0      1.0  \n",
       "3                     0.167  21.0      0.0  \n",
       "4                     1.200  33.0      1.0  "
      ]
     },
     "execution_count": 22,
     "metadata": {},
     "output_type": "execute_result"
    }
   ],
   "source": [
    "zero_columns = [i for i in df.columns if (df[i].min() == 0 and i not in [\"Pregnancies\", \"Outcome\"])]\n",
    "\n",
    "for i in zero_columns:\n",
    "    df[[i]] = df[[i]].replace(0, np.NaN)\n",
    "\n",
    "df.isnull().sum()\n",
    "\n",
    "scaler = MinMaxScaler()\n",
    "df = pd.DataFrame(scaler.fit_transform(df), columns=df.columns)\n",
    "df.head()\n",
    "\n",
    "\n",
    "imputer = KNNImputer(n_neighbors=5)\n",
    "df = pd.DataFrame(imputer.fit_transform(df), columns=df.columns)\n",
    "df = pd.DataFrame(scaler.inverse_transform(df), columns=df.columns)\n",
    "df.head()"
   ]
  },
  {
   "cell_type": "code",
   "execution_count": 23,
   "id": "8f50fb0a",
   "metadata": {},
   "outputs": [
    {
     "data": {
      "text/plain": [
       "Pregnancies                 0\n",
       "Glucose                     0\n",
       "BloodPressure               0\n",
       "SkinThickness               0\n",
       "Insulin                     0\n",
       "BMI                         0\n",
       "DiabetesPedigreeFunction    0\n",
       "Age                         0\n",
       "Outcome                     0\n",
       "dtype: int64"
      ]
     },
     "execution_count": 23,
     "metadata": {},
     "output_type": "execute_result"
    }
   ],
   "source": [
    "df.isnull().sum()"
   ]
  },
  {
   "cell_type": "markdown",
   "id": "639bea3e",
   "metadata": {},
   "source": [
    "## CORRELATION ANALYSIS"
   ]
  },
  {
   "cell_type": "code",
   "execution_count": 24,
   "id": "faa58ab7",
   "metadata": {},
   "outputs": [
    {
     "data": {
      "image/png": "[encoded data removed]",
      "text/plain": [
       "<Figure size 432x288 with 2 Axes>"
      ]
     },
     "metadata": {
      "needs_background": "light"
     },
     "output_type": "display_data"
    },
    {
     "data": {
      "text/html": [
       "<div>\n",
       "<style scoped>\n",
       "    .dataframe tbody tr th:only-of-type {\n",
       "        vertical-align: middle;\n",
       "    }\n",
       "\n",
       "    .dataframe tbody tr th {\n",
       "        vertical-align: top;\n",
       "    }\n",
       "\n",
       "    .dataframe thead th {\n",
       "        text-align: right;\n",
       "    }\n",
       "</style>\n",
       "<table border=\"1\" class=\"dataframe\">\n",
       "  <thead>\n",
       "    <tr style=\"text-align: right;\">\n",
       "      <th></th>\n",
       "      <th>1</th>\n",
       "      <th>2</th>\n",
       "      <th>corr</th>\n",
       "    </tr>\n",
       "  </thead>\n",
       "  <tbody>\n",
       "    <tr>\n",
       "      <th>33</th>\n",
       "      <td>Age</td>\n",
       "      <td>Pregnancies</td>\n",
       "      <td>0.719707</td>\n",
       "    </tr>\n",
       "    <tr>\n",
       "      <th>34</th>\n",
       "      <td>Glucose</td>\n",
       "      <td>Insulin</td>\n",
       "      <td>0.781214</td>\n",
       "    </tr>\n",
       "    <tr>\n",
       "      <th>35</th>\n",
       "      <td>SkinThickness</td>\n",
       "      <td>BMI</td>\n",
       "      <td>0.827103</td>\n",
       "    </tr>\n",
       "    <tr>\n",
       "      <th>36</th>\n",
       "      <td>Pregnancies</td>\n",
       "      <td>Pregnancies</td>\n",
       "      <td>1.000000</td>\n",
       "    </tr>\n",
       "  </tbody>\n",
       "</table>\n",
       "</div>"
      ],
      "text/plain": [
       "                1            2      corr\n",
       "33            Age  Pregnancies  0.719707\n",
       "34        Glucose      Insulin  0.781214\n",
       "35  SkinThickness          BMI  0.827103\n",
       "36    Pregnancies  Pregnancies  1.000000"
      ]
     },
     "execution_count": 24,
     "metadata": {},
     "output_type": "execute_result"
    }
   ],
   "source": [
    "df.corrwith(df[\"Outcome\"]).sort_values(ascending=False)\n",
    "corr_df = df.corr()\n",
    "\n",
    "sns.heatmap(corr_df, annot=True, xticklabels=corr_df.columns, yticklabels=corr_df.columns)\n",
    "plt.show()\n",
    "\n",
    "corr_df = corr_df.corr().unstack().sort_values().drop_duplicates()\n",
    "corr_df = pd.DataFrame(corr_df, columns=[\"corr\"])\n",
    "corr_df.index.names = ['1', '2']\n",
    "corr_df = corr_df.reset_index()\n",
    "corr_df.sort_values(by=\"corr\", ascending=True).head(30)\n",
    "\n",
    "high_corr = corr_df[(corr_df[\"corr\"] >= 0.70) | (corr_df[\"corr\"] <= -0.70)]\n",
    "high_corr"
   ]
  },
  {
   "cell_type": "markdown",
   "id": "e86ecbe0",
   "metadata": {},
   "source": [
    "## FEATURE ENGINEERING"
   ]
  },
  {
   "cell_type": "code",
   "execution_count": 25,
   "id": "e72736c2",
   "metadata": {},
   "outputs": [],
   "source": [
    "df[\"glucose_age_ratio\"] = df[\"Glucose\"]/df[\"Age\"]"
   ]
  },
  {
   "cell_type": "code",
   "execution_count": 26,
   "id": "7bd8c600",
   "metadata": {},
   "outputs": [],
   "source": [
    "df[\"insulin_age_ratio\"] = df[\"Insulin\"]/df[\"Age\"]"
   ]
  },
  {
   "cell_type": "code",
   "execution_count": 27,
   "id": "7bc3a8ff",
   "metadata": {},
   "outputs": [],
   "source": [
    "df[\"insulin_glucose_ratio\"] = df[\"Insulin\"]/df[\"Glucose\"]"
   ]
  },
  {
   "cell_type": "code",
   "execution_count": 28,
   "id": "59763f01",
   "metadata": {},
   "outputs": [],
   "source": [
    "df[\"skinthickness_age_ratio\"] = df[\"SkinThickness\"]/df[\"Age\"]"
   ]
  },
  {
   "cell_type": "code",
   "execution_count": 29,
   "id": "4686a5b6",
   "metadata": {},
   "outputs": [],
   "source": [
    "df[\"skinthickness_insulin_ratio\"] = df[\"SkinThickness\"]/df[\"Insulin\"]"
   ]
  },
  {
   "cell_type": "code",
   "execution_count": 30,
   "id": "427af8ca",
   "metadata": {},
   "outputs": [],
   "source": [
    "df[\"skinthickness_pregnancies_ratio\"] = df[\"Pregnancies\"]/df[\"SkinThickness\"]"
   ]
  },
  {
   "cell_type": "code",
   "execution_count": 31,
   "id": "57c69f2c",
   "metadata": {},
   "outputs": [],
   "source": [
    "def set_bmi(row):\n",
    "    if row['BMI'] < 18.5:\n",
    "        return \"Under\"\n",
    "    elif row['BMI'] >= 18.5 and row['BMI'] <=24.9:\n",
    "        return \"Healthy\"\n",
    "    elif row['BMI'] >= 25 and row['BMI'] <=29.9:\n",
    "        return \"Over\"\n",
    "    elif row[\"BMI\"] >= 30:\n",
    "        return \"Obese\""
   ]
  },
  {
   "cell_type": "code",
   "execution_count": 32,
   "id": "745c60d6",
   "metadata": {},
   "outputs": [
    {
     "data": {
      "text/html": [
       "<div>\n",
       "<style scoped>\n",
       "    .dataframe tbody tr th:only-of-type {\n",
       "        vertical-align: middle;\n",
       "    }\n",
       "\n",
       "    .dataframe tbody tr th {\n",
       "        vertical-align: top;\n",
       "    }\n",
       "\n",
       "    .dataframe thead th {\n",
       "        text-align: right;\n",
       "    }\n",
       "</style>\n",
       "<table border=\"1\" class=\"dataframe\">\n",
       "  <thead>\n",
       "    <tr style=\"text-align: right;\">\n",
       "      <th></th>\n",
       "      <th>Pregnancies</th>\n",
       "      <th>Glucose</th>\n",
       "      <th>BloodPressure</th>\n",
       "      <th>SkinThickness</th>\n",
       "      <th>Insulin</th>\n",
       "      <th>BMI</th>\n",
       "      <th>DiabetesPedigreeFunction</th>\n",
       "      <th>Age</th>\n",
       "      <th>Outcome</th>\n",
       "      <th>glucose_age_ratio</th>\n",
       "      <th>insulin_age_ratio</th>\n",
       "      <th>insulin_glucose_ratio</th>\n",
       "      <th>skinthickness_age_ratio</th>\n",
       "      <th>skinthickness_insulin_ratio</th>\n",
       "      <th>skinthickness_pregnancies_ratio</th>\n",
       "      <th>BM_DESC</th>\n",
       "    </tr>\n",
       "  </thead>\n",
       "  <tbody>\n",
       "    <tr>\n",
       "      <th>0</th>\n",
       "      <td>6.0</td>\n",
       "      <td>148.0</td>\n",
       "      <td>72.0</td>\n",
       "      <td>35.0</td>\n",
       "      <td>244.45</td>\n",
       "      <td>33.6</td>\n",
       "      <td>0.627</td>\n",
       "      <td>50.0</td>\n",
       "      <td>1.0</td>\n",
       "      <td>2.960000</td>\n",
       "      <td>4.889000</td>\n",
       "      <td>1.651689</td>\n",
       "      <td>0.700000</td>\n",
       "      <td>0.143179</td>\n",
       "      <td>0.171429</td>\n",
       "      <td>Obese</td>\n",
       "    </tr>\n",
       "    <tr>\n",
       "      <th>1</th>\n",
       "      <td>1.0</td>\n",
       "      <td>85.0</td>\n",
       "      <td>66.0</td>\n",
       "      <td>29.0</td>\n",
       "      <td>56.20</td>\n",
       "      <td>26.6</td>\n",
       "      <td>0.351</td>\n",
       "      <td>31.0</td>\n",
       "      <td>0.0</td>\n",
       "      <td>2.741935</td>\n",
       "      <td>1.812903</td>\n",
       "      <td>0.661176</td>\n",
       "      <td>0.935484</td>\n",
       "      <td>0.516014</td>\n",
       "      <td>0.034483</td>\n",
       "      <td>Over</td>\n",
       "    </tr>\n",
       "    <tr>\n",
       "      <th>2</th>\n",
       "      <td>8.0</td>\n",
       "      <td>183.0</td>\n",
       "      <td>64.0</td>\n",
       "      <td>32.2</td>\n",
       "      <td>222.45</td>\n",
       "      <td>23.3</td>\n",
       "      <td>0.672</td>\n",
       "      <td>32.0</td>\n",
       "      <td>1.0</td>\n",
       "      <td>5.718750</td>\n",
       "      <td>6.951563</td>\n",
       "      <td>1.215574</td>\n",
       "      <td>1.006250</td>\n",
       "      <td>0.144752</td>\n",
       "      <td>0.248447</td>\n",
       "      <td>Healthy</td>\n",
       "    </tr>\n",
       "    <tr>\n",
       "      <th>3</th>\n",
       "      <td>1.0</td>\n",
       "      <td>89.0</td>\n",
       "      <td>66.0</td>\n",
       "      <td>23.0</td>\n",
       "      <td>94.00</td>\n",
       "      <td>28.1</td>\n",
       "      <td>0.167</td>\n",
       "      <td>21.0</td>\n",
       "      <td>0.0</td>\n",
       "      <td>4.238095</td>\n",
       "      <td>4.476190</td>\n",
       "      <td>1.056180</td>\n",
       "      <td>1.095238</td>\n",
       "      <td>0.244681</td>\n",
       "      <td>0.043478</td>\n",
       "      <td>Over</td>\n",
       "    </tr>\n",
       "    <tr>\n",
       "      <th>4</th>\n",
       "      <td>0.0</td>\n",
       "      <td>137.0</td>\n",
       "      <td>40.0</td>\n",
       "      <td>35.0</td>\n",
       "      <td>168.00</td>\n",
       "      <td>43.1</td>\n",
       "      <td>1.200</td>\n",
       "      <td>33.0</td>\n",
       "      <td>1.0</td>\n",
       "      <td>4.151515</td>\n",
       "      <td>5.090909</td>\n",
       "      <td>1.226277</td>\n",
       "      <td>1.060606</td>\n",
       "      <td>0.208333</td>\n",
       "      <td>0.000000</td>\n",
       "      <td>Obese</td>\n",
       "    </tr>\n",
       "  </tbody>\n",
       "</table>\n",
       "</div>"
      ],
      "text/plain": [
       "   Pregnancies  Glucose  BloodPressure  SkinThickness  Insulin   BMI  \\\n",
       "0          6.0    148.0           72.0           35.0   244.45  33.6   \n",
       "1          1.0     85.0           66.0           29.0    56.20  26.6   \n",
       "2          8.0    183.0           64.0           32.2   222.45  23.3   \n",
       "3          1.0     89.0           66.0           23.0    94.00  28.1   \n",
       "4          0.0    137.0           40.0           35.0   168.00  43.1   \n",
       "\n",
       "   DiabetesPedigreeFunction   Age  Outcome  glucose_age_ratio  \\\n",
       "0                     0.627  50.0      1.0           2.960000   \n",
       "1                     0.351  31.0      0.0           2.741935   \n",
       "2                     0.672  32.0      1.0           5.718750   \n",
       "3                     0.167  21.0      0.0           4.238095   \n",
       "4                     1.200  33.0      1.0           4.151515   \n",
       "\n",
       "   insulin_age_ratio  insulin_glucose_ratio  skinthickness_age_ratio  \\\n",
       "0           4.889000               1.651689                 0.700000   \n",
       "1           1.812903               0.661176                 0.935484   \n",
       "2           6.951563               1.215574                 1.006250   \n",
       "3           4.476190               1.056180                 1.095238   \n",
       "4           5.090909               1.226277                 1.060606   \n",
       "\n",
       "   skinthickness_insulin_ratio  skinthickness_pregnancies_ratio  BM_DESC  \n",
       "0                     0.143179                         0.171429    Obese  \n",
       "1                     0.516014                         0.034483     Over  \n",
       "2                     0.144752                         0.248447  Healthy  \n",
       "3                     0.244681                         0.043478     Over  \n",
       "4                     0.208333                         0.000000    Obese  "
      ]
     },
     "execution_count": 32,
     "metadata": {},
     "output_type": "execute_result"
    }
   ],
   "source": [
    "df = df.assign(BM_DESC=df.apply(set_bmi, axis=1))\n",
    "df.head()"
   ]
  },
  {
   "cell_type": "code",
   "execution_count": 33,
   "id": "6a735838",
   "metadata": {},
   "outputs": [],
   "source": [
    "def set_insulin(row):\n",
    "    if row['Insulin'] >= 16 and row['Insulin'] <=166:\n",
    "        return \"Normal\"\n",
    "    else:\n",
    "        return \"Abnormal\""
   ]
  },
  {
   "cell_type": "code",
   "execution_count": 34,
   "id": "1369b6ac",
   "metadata": {},
   "outputs": [
    {
     "data": {
      "text/html": [
       "<div>\n",
       "<style scoped>\n",
       "    .dataframe tbody tr th:only-of-type {\n",
       "        vertical-align: middle;\n",
       "    }\n",
       "\n",
       "    .dataframe tbody tr th {\n",
       "        vertical-align: top;\n",
       "    }\n",
       "\n",
       "    .dataframe thead th {\n",
       "        text-align: right;\n",
       "    }\n",
       "</style>\n",
       "<table border=\"1\" class=\"dataframe\">\n",
       "  <thead>\n",
       "    <tr style=\"text-align: right;\">\n",
       "      <th></th>\n",
       "      <th>Pregnancies</th>\n",
       "      <th>Glucose</th>\n",
       "      <th>BloodPressure</th>\n",
       "      <th>SkinThickness</th>\n",
       "      <th>Insulin</th>\n",
       "      <th>BMI</th>\n",
       "      <th>DiabetesPedigreeFunction</th>\n",
       "      <th>Age</th>\n",
       "      <th>Outcome</th>\n",
       "      <th>glucose_age_ratio</th>\n",
       "      <th>insulin_age_ratio</th>\n",
       "      <th>insulin_glucose_ratio</th>\n",
       "      <th>skinthickness_age_ratio</th>\n",
       "      <th>skinthickness_insulin_ratio</th>\n",
       "      <th>skinthickness_pregnancies_ratio</th>\n",
       "      <th>BM_DESC</th>\n",
       "      <th>INSULIN_DESC</th>\n",
       "    </tr>\n",
       "  </thead>\n",
       "  <tbody>\n",
       "    <tr>\n",
       "      <th>0</th>\n",
       "      <td>6.0</td>\n",
       "      <td>148.0</td>\n",
       "      <td>72.0</td>\n",
       "      <td>35.0</td>\n",
       "      <td>244.45</td>\n",
       "      <td>33.6</td>\n",
       "      <td>0.627</td>\n",
       "      <td>50.0</td>\n",
       "      <td>1.0</td>\n",
       "      <td>2.960000</td>\n",
       "      <td>4.889000</td>\n",
       "      <td>1.651689</td>\n",
       "      <td>0.700000</td>\n",
       "      <td>0.143179</td>\n",
       "      <td>0.171429</td>\n",
       "      <td>Obese</td>\n",
       "      <td>Abnormal</td>\n",
       "    </tr>\n",
       "    <tr>\n",
       "      <th>1</th>\n",
       "      <td>1.0</td>\n",
       "      <td>85.0</td>\n",
       "      <td>66.0</td>\n",
       "      <td>29.0</td>\n",
       "      <td>56.20</td>\n",
       "      <td>26.6</td>\n",
       "      <td>0.351</td>\n",
       "      <td>31.0</td>\n",
       "      <td>0.0</td>\n",
       "      <td>2.741935</td>\n",
       "      <td>1.812903</td>\n",
       "      <td>0.661176</td>\n",
       "      <td>0.935484</td>\n",
       "      <td>0.516014</td>\n",
       "      <td>0.034483</td>\n",
       "      <td>Over</td>\n",
       "      <td>Normal</td>\n",
       "    </tr>\n",
       "    <tr>\n",
       "      <th>2</th>\n",
       "      <td>8.0</td>\n",
       "      <td>183.0</td>\n",
       "      <td>64.0</td>\n",
       "      <td>32.2</td>\n",
       "      <td>222.45</td>\n",
       "      <td>23.3</td>\n",
       "      <td>0.672</td>\n",
       "      <td>32.0</td>\n",
       "      <td>1.0</td>\n",
       "      <td>5.718750</td>\n",
       "      <td>6.951563</td>\n",
       "      <td>1.215574</td>\n",
       "      <td>1.006250</td>\n",
       "      <td>0.144752</td>\n",
       "      <td>0.248447</td>\n",
       "      <td>Healthy</td>\n",
       "      <td>Abnormal</td>\n",
       "    </tr>\n",
       "    <tr>\n",
       "      <th>3</th>\n",
       "      <td>1.0</td>\n",
       "      <td>89.0</td>\n",
       "      <td>66.0</td>\n",
       "      <td>23.0</td>\n",
       "      <td>94.00</td>\n",
       "      <td>28.1</td>\n",
       "      <td>0.167</td>\n",
       "      <td>21.0</td>\n",
       "      <td>0.0</td>\n",
       "      <td>4.238095</td>\n",
       "      <td>4.476190</td>\n",
       "      <td>1.056180</td>\n",
       "      <td>1.095238</td>\n",
       "      <td>0.244681</td>\n",
       "      <td>0.043478</td>\n",
       "      <td>Over</td>\n",
       "      <td>Normal</td>\n",
       "    </tr>\n",
       "    <tr>\n",
       "      <th>4</th>\n",
       "      <td>0.0</td>\n",
       "      <td>137.0</td>\n",
       "      <td>40.0</td>\n",
       "      <td>35.0</td>\n",
       "      <td>168.00</td>\n",
       "      <td>43.1</td>\n",
       "      <td>1.200</td>\n",
       "      <td>33.0</td>\n",
       "      <td>1.0</td>\n",
       "      <td>4.151515</td>\n",
       "      <td>5.090909</td>\n",
       "      <td>1.226277</td>\n",
       "      <td>1.060606</td>\n",
       "      <td>0.208333</td>\n",
       "      <td>0.000000</td>\n",
       "      <td>Obese</td>\n",
       "      <td>Abnormal</td>\n",
       "    </tr>\n",
       "  </tbody>\n",
       "</table>\n",
       "</div>"
      ],
      "text/plain": [
       "   Pregnancies  Glucose  BloodPressure  SkinThickness  Insulin   BMI  \\\n",
       "0          6.0    148.0           72.0           35.0   244.45  33.6   \n",
       "1          1.0     85.0           66.0           29.0    56.20  26.6   \n",
       "2          8.0    183.0           64.0           32.2   222.45  23.3   \n",
       "3          1.0     89.0           66.0           23.0    94.00  28.1   \n",
       "4          0.0    137.0           40.0           35.0   168.00  43.1   \n",
       "\n",
       "   DiabetesPedigreeFunction   Age  Outcome  glucose_age_ratio  \\\n",
       "0                     0.627  50.0      1.0           2.960000   \n",
       "1                     0.351  31.0      0.0           2.741935   \n",
       "2                     0.672  32.0      1.0           5.718750   \n",
       "3                     0.167  21.0      0.0           4.238095   \n",
       "4                     1.200  33.0      1.0           4.151515   \n",
       "\n",
       "   insulin_age_ratio  insulin_glucose_ratio  skinthickness_age_ratio  \\\n",
       "0           4.889000               1.651689                 0.700000   \n",
       "1           1.812903               0.661176                 0.935484   \n",
       "2           6.951563               1.215574                 1.006250   \n",
       "3           4.476190               1.056180                 1.095238   \n",
       "4           5.090909               1.226277                 1.060606   \n",
       "\n",
       "   skinthickness_insulin_ratio  skinthickness_pregnancies_ratio  BM_DESC  \\\n",
       "0                     0.143179                         0.171429    Obese   \n",
       "1                     0.516014                         0.034483     Over   \n",
       "2                     0.144752                         0.248447  Healthy   \n",
       "3                     0.244681                         0.043478     Over   \n",
       "4                     0.208333                         0.000000    Obese   \n",
       "\n",
       "  INSULIN_DESC  \n",
       "0     Abnormal  \n",
       "1       Normal  \n",
       "2     Abnormal  \n",
       "3       Normal  \n",
       "4     Abnormal  "
      ]
     },
     "execution_count": 34,
     "metadata": {},
     "output_type": "execute_result"
    }
   ],
   "source": [
    "df = df.assign(INSULIN_DESC=df.apply(set_insulin, axis=1))\n",
    "df.head()"
   ]
  },
  {
   "cell_type": "code",
   "execution_count": 35,
   "id": "25f5ccb4",
   "metadata": {},
   "outputs": [
    {
     "data": {
      "image/png": "[encoded data removed]",
      "text/plain": [
       "<Figure size 432x288 with 1 Axes>"
      ]
     },
     "metadata": {
      "needs_background": "light"
     },
     "output_type": "display_data"
    },
    {
     "name": "stdout",
     "output_type": "stream",
     "text": [
      "Number of patients Having Abnormal Insulin Levels:  519\n",
      "Number of patients Having Normal Insulin Levels:  249\n"
     ]
    }
   ],
   "source": [
    "sns.countplot(data=df, x='INSULIN_DESC', label='Count')\n",
    "plt.show()\n",
    "AB, NB = df['INSULIN_DESC'].value_counts()\n",
    "print('Number of patients Having Abnormal Insulin Levels: ',AB)\n",
    "print('Number of patients Having Normal Insulin Levels: ',NB)"
   ]
  },
  {
   "cell_type": "code",
   "execution_count": 36,
   "id": "cb0a3a1d",
   "metadata": {},
   "outputs": [
    {
     "data": {
      "image/png": "[encoded data removed]",
      "text/plain": [
       "<Figure size 432x288 with 1 Axes>"
      ]
     },
     "metadata": {
      "needs_background": "light"
     },
     "output_type": "display_data"
    },
    {
     "name": "stdout",
     "output_type": "stream",
     "text": [
      "Number of patients Having Underweight BMI Index:  472\n",
      "Number of patients Having Healthy BMI Index:  179\n",
      "Number of patients Having Overweight BMI Index:  102\n",
      "Number of patients Having Obese BMI Index:  15\n"
     ]
    }
   ],
   "source": [
    "sns.countplot(data=df, x = 'BM_DESC', label='Count')\n",
    "plt.show()\n",
    "UD,H,OV,OB = df['BM_DESC'].value_counts()\n",
    "print('Number of patients Having Underweight BMI Index: ',UD)\n",
    "print('Number of patients Having Healthy BMI Index: ',H)\n",
    "print('Number of patients Having Overweight BMI Index: ',OV)\n",
    "print('Number of patients Having Obese BMI Index: ',OB)"
   ]
  },
  {
   "cell_type": "code",
   "execution_count": 37,
   "id": "bd3fdfb1",
   "metadata": {},
   "outputs": [
    {
     "data": {
      "image/png": "[encoded data removed]",
      "text/plain": [
       "<Figure size 432x432 with 4 Axes>"
      ]
     },
     "metadata": {
      "needs_background": "light"
     },
     "output_type": "display_data"
    }
   ],
   "source": [
    "g = sns.FacetGrid(df, col='INSULIN_DESC', row='Outcome', margin_titles=True)\n",
    "g.map(plt.scatter,\"Glucose\",\"BloodPressure\", edgecolor='w')\n",
    "plt.subplots_adjust(top=1.1)\n",
    "plt.show()"
   ]
  },
  {
   "cell_type": "code",
   "execution_count": 38,
   "id": "3d8bc6ce",
   "metadata": {},
   "outputs": [
    {
     "data": {
      "image/png": "[encoded data removed]",
      "text/plain": [
       "<Figure size 432x432 with 4 Axes>"
      ]
     },
     "metadata": {
      "needs_background": "light"
     },
     "output_type": "display_data"
    }
   ],
   "source": [
    "g = sns.FacetGrid(df, col='INSULIN_DESC', row='Outcome', margin_titles=True)\n",
    "g.map(plt.scatter,\"DiabetesPedigreeFunction\",\"BloodPressure\", edgecolor='w')\n",
    "plt.subplots_adjust(top=1.1)\n",
    "plt.show()"
   ]
  },
  {
   "cell_type": "code",
   "execution_count": 39,
   "id": "cb369e6d",
   "metadata": {},
   "outputs": [
    {
     "data": {
      "image/png": "[encoded data removed]",
      "text/plain": [
       "<Figure size 432x432 with 4 Axes>"
      ]
     },
     "metadata": {
      "needs_background": "light"
     },
     "output_type": "display_data"
    }
   ],
   "source": [
    "g = sns.FacetGrid(df, col='Outcome', row='INSULIN_DESC', margin_titles=True)\n",
    "g.map(plt.hist, \"Age\", color='red')\n",
    "plt.subplots_adjust(top=0.9)\n",
    "g.fig.suptitle('Disease by INSULIN and Age');\n",
    "plt.show()"
   ]
  },
  {
   "cell_type": "code",
   "execution_count": 40,
   "id": "5aa20ba9",
   "metadata": {},
   "outputs": [
    {
     "data": {
      "image/png": "[encoded data removed]",
      "text/plain": [
       "<Figure size 432x288 with 1 Axes>"
      ]
     },
     "metadata": {
      "needs_background": "light"
     },
     "output_type": "display_data"
    }
   ],
   "source": [
    "sns.boxplot(x='Age', y='INSULIN_DESC', hue='Outcome', data=df);\n",
    "plt.show()"
   ]
  },
  {
   "cell_type": "code",
   "execution_count": 41,
   "id": "ea53c271",
   "metadata": {},
   "outputs": [
    {
     "data": {
      "image/png": "[encoded data removed]",
      "text/plain": [
       "<Figure size 432x288 with 1 Axes>"
      ]
     },
     "metadata": {
      "needs_background": "light"
     },
     "output_type": "display_data"
    }
   ],
   "source": [
    "sns.boxplot(x='Age', y='BM_DESC', hue='Outcome', data=df);\n",
    "plt.show()"
   ]
  },
  {
   "cell_type": "code",
   "execution_count": 42,
   "id": "44754a57",
   "metadata": {},
   "outputs": [],
   "source": [
    "df = pd.get_dummies(df, drop_first = True)"
   ]
  },
  {
   "cell_type": "code",
   "execution_count": 43,
   "id": "c1c3ce33",
   "metadata": {},
   "outputs": [
    {
     "name": "stdout",
     "output_type": "stream",
     "text": [
      "Observations: 768\n",
      "Variables: 19\n",
      "cat_cols: 5\n",
      "num_cols: 14\n",
      "cat_but_car: 0\n",
      "num_but_cat: 5\n"
     ]
    }
   ],
   "source": [
    "cat_cols, num_cols, cat_but_car = grab_col_names(df)"
   ]
  },
  {
   "cell_type": "code",
   "execution_count": 44,
   "id": "f85da724",
   "metadata": {},
   "outputs": [],
   "source": [
    "scaler = StandardScaler()\n",
    "df[num_cols] = scaler.fit_transform(df[num_cols])"
   ]
  },
  {
   "cell_type": "code",
   "execution_count": 45,
   "id": "cc61cc72",
   "metadata": {},
   "outputs": [
    {
     "data": {
      "text/html": [
       "<div>\n",
       "<style scoped>\n",
       "    .dataframe tbody tr th:only-of-type {\n",
       "        vertical-align: middle;\n",
       "    }\n",
       "\n",
       "    .dataframe tbody tr th {\n",
       "        vertical-align: top;\n",
       "    }\n",
       "\n",
       "    .dataframe thead th {\n",
       "        text-align: right;\n",
       "    }\n",
       "</style>\n",
       "<table border=\"1\" class=\"dataframe\">\n",
       "  <thead>\n",
       "    <tr style=\"text-align: right;\">\n",
       "      <th></th>\n",
       "      <th>Pregnancies</th>\n",
       "      <th>Glucose</th>\n",
       "      <th>BloodPressure</th>\n",
       "      <th>SkinThickness</th>\n",
       "      <th>Insulin</th>\n",
       "      <th>BMI</th>\n",
       "      <th>DiabetesPedigreeFunction</th>\n",
       "      <th>Age</th>\n",
       "      <th>glucose_age_ratio</th>\n",
       "      <th>insulin_age_ratio</th>\n",
       "      <th>insulin_glucose_ratio</th>\n",
       "      <th>skinthickness_age_ratio</th>\n",
       "      <th>skinthickness_insulin_ratio</th>\n",
       "      <th>skinthickness_pregnancies_ratio</th>\n",
       "    </tr>\n",
       "  </thead>\n",
       "  <tbody>\n",
       "    <tr>\n",
       "      <th>0</th>\n",
       "      <td>0.647150</td>\n",
       "      <td>0.861926</td>\n",
       "      <td>0.092691</td>\n",
       "      <td>0.634514</td>\n",
       "      <td>1.447693</td>\n",
       "      <td>0.209359</td>\n",
       "      <td>0.588927</td>\n",
       "      <td>1.445691</td>\n",
       "      <td>-0.738863</td>\n",
       "      <td>0.121026</td>\n",
       "      <td>1.037129</td>\n",
       "      <td>-0.641495</td>\n",
       "      <td>-0.502557</td>\n",
       "      <td>0.230044</td>\n",
       "    </tr>\n",
       "    <tr>\n",
       "      <th>1</th>\n",
       "      <td>-0.848970</td>\n",
       "      <td>-1.159433</td>\n",
       "      <td>-0.330201</td>\n",
       "      <td>-0.006089</td>\n",
       "      <td>-1.236080</td>\n",
       "      <td>-0.784254</td>\n",
       "      <td>-0.378101</td>\n",
       "      <td>-0.189304</td>\n",
       "      <td>-0.900305</td>\n",
       "      <td>-1.086563</td>\n",
       "      <td>-1.073322</td>\n",
       "      <td>-0.038410</td>\n",
       "      <td>1.083420</td>\n",
       "      <td>-0.801439</td>\n",
       "    </tr>\n",
       "    <tr>\n",
       "      <th>2</th>\n",
       "      <td>1.245598</td>\n",
       "      <td>1.984903</td>\n",
       "      <td>-0.471166</td>\n",
       "      <td>0.335566</td>\n",
       "      <td>1.134051</td>\n",
       "      <td>-1.252672</td>\n",
       "      <td>0.746595</td>\n",
       "      <td>-0.103252</td>\n",
       "      <td>1.303551</td>\n",
       "      <td>0.930731</td>\n",
       "      <td>0.107913</td>\n",
       "      <td>0.142826</td>\n",
       "      <td>-0.495865</td>\n",
       "      <td>0.810152</td>\n",
       "    </tr>\n",
       "    <tr>\n",
       "      <th>3</th>\n",
       "      <td>-0.848970</td>\n",
       "      <td>-1.031093</td>\n",
       "      <td>-0.330201</td>\n",
       "      <td>-0.646692</td>\n",
       "      <td>-0.697187</td>\n",
       "      <td>-0.571337</td>\n",
       "      <td>-1.022787</td>\n",
       "      <td>-1.049828</td>\n",
       "      <td>0.207362</td>\n",
       "      <td>-0.041031</td>\n",
       "      <td>-0.231702</td>\n",
       "      <td>0.370728</td>\n",
       "      <td>-0.070784</td>\n",
       "      <td>-0.733684</td>\n",
       "    </tr>\n",
       "    <tr>\n",
       "      <th>4</th>\n",
       "      <td>-1.148194</td>\n",
       "      <td>0.508990</td>\n",
       "      <td>-2.162737</td>\n",
       "      <td>0.634514</td>\n",
       "      <td>0.357789</td>\n",
       "      <td>1.557835</td>\n",
       "      <td>2.596563</td>\n",
       "      <td>-0.017199</td>\n",
       "      <td>0.143264</td>\n",
       "      <td>0.200290</td>\n",
       "      <td>0.130719</td>\n",
       "      <td>0.282034</td>\n",
       "      <td>-0.225400</td>\n",
       "      <td>-1.061165</td>\n",
       "    </tr>\n",
       "  </tbody>\n",
       "</table>\n",
       "</div>"
      ],
      "text/plain": [
       "   Pregnancies   Glucose  BloodPressure  SkinThickness   Insulin       BMI  \\\n",
       "0     0.647150  0.861926       0.092691       0.634514  1.447693  0.209359   \n",
       "1    -0.848970 -1.159433      -0.330201      -0.006089 -1.236080 -0.784254   \n",
       "2     1.245598  1.984903      -0.471166       0.335566  1.134051 -1.252672   \n",
       "3    -0.848970 -1.031093      -0.330201      -0.646692 -0.697187 -0.571337   \n",
       "4    -1.148194  0.508990      -2.162737       0.634514  0.357789  1.557835   \n",
       "\n",
       "   DiabetesPedigreeFunction       Age  glucose_age_ratio  insulin_age_ratio  \\\n",
       "0                  0.588927  1.445691          -0.738863           0.121026   \n",
       "1                 -0.378101 -0.189304          -0.900305          -1.086563   \n",
       "2                  0.746595 -0.103252           1.303551           0.930731   \n",
       "3                 -1.022787 -1.049828           0.207362          -0.041031   \n",
       "4                  2.596563 -0.017199           0.143264           0.200290   \n",
       "\n",
       "   insulin_glucose_ratio  skinthickness_age_ratio  \\\n",
       "0               1.037129                -0.641495   \n",
       "1              -1.073322                -0.038410   \n",
       "2               0.107913                 0.142826   \n",
       "3              -0.231702                 0.370728   \n",
       "4               0.130719                 0.282034   \n",
       "\n",
       "   skinthickness_insulin_ratio  skinthickness_pregnancies_ratio  \n",
       "0                    -0.502557                         0.230044  \n",
       "1                     1.083420                        -0.801439  \n",
       "2                    -0.495865                         0.810152  \n",
       "3                    -0.070784                        -0.733684  \n",
       "4                    -0.225400                        -1.061165  "
      ]
     },
     "execution_count": 45,
     "metadata": {},
     "output_type": "execute_result"
    }
   ],
   "source": [
    "df[num_cols].head()"
   ]
  },
  {
   "cell_type": "code",
   "execution_count": 46,
   "id": "18be4a97",
   "metadata": {},
   "outputs": [
    {
     "data": {
      "text/html": [
       "<div>\n",
       "<style scoped>\n",
       "    .dataframe tbody tr th:only-of-type {\n",
       "        vertical-align: middle;\n",
       "    }\n",
       "\n",
       "    .dataframe tbody tr th {\n",
       "        vertical-align: top;\n",
       "    }\n",
       "\n",
       "    .dataframe thead th {\n",
       "        text-align: right;\n",
       "    }\n",
       "</style>\n",
       "<table border=\"1\" class=\"dataframe\">\n",
       "  <thead>\n",
       "    <tr style=\"text-align: right;\">\n",
       "      <th></th>\n",
       "      <th>Pregnancies</th>\n",
       "      <th>Glucose</th>\n",
       "      <th>BloodPressure</th>\n",
       "      <th>SkinThickness</th>\n",
       "      <th>Insulin</th>\n",
       "      <th>BMI</th>\n",
       "      <th>DiabetesPedigreeFunction</th>\n",
       "      <th>Age</th>\n",
       "      <th>Outcome</th>\n",
       "      <th>glucose_age_ratio</th>\n",
       "      <th>insulin_age_ratio</th>\n",
       "      <th>insulin_glucose_ratio</th>\n",
       "      <th>skinthickness_age_ratio</th>\n",
       "      <th>skinthickness_insulin_ratio</th>\n",
       "      <th>skinthickness_pregnancies_ratio</th>\n",
       "      <th>BM_DESC_Obese</th>\n",
       "      <th>BM_DESC_Over</th>\n",
       "      <th>BM_DESC_Under</th>\n",
       "      <th>INSULIN_DESC_Normal</th>\n",
       "    </tr>\n",
       "  </thead>\n",
       "  <tbody>\n",
       "    <tr>\n",
       "      <th>0</th>\n",
       "      <td>0.647150</td>\n",
       "      <td>0.861926</td>\n",
       "      <td>0.092691</td>\n",
       "      <td>0.634514</td>\n",
       "      <td>1.447693</td>\n",
       "      <td>0.209359</td>\n",
       "      <td>0.588927</td>\n",
       "      <td>1.445691</td>\n",
       "      <td>1.0</td>\n",
       "      <td>-0.738863</td>\n",
       "      <td>0.121026</td>\n",
       "      <td>1.037129</td>\n",
       "      <td>-0.641495</td>\n",
       "      <td>-0.502557</td>\n",
       "      <td>0.230044</td>\n",
       "      <td>1</td>\n",
       "      <td>0</td>\n",
       "      <td>0</td>\n",
       "      <td>0</td>\n",
       "    </tr>\n",
       "    <tr>\n",
       "      <th>1</th>\n",
       "      <td>-0.848970</td>\n",
       "      <td>-1.159433</td>\n",
       "      <td>-0.330201</td>\n",
       "      <td>-0.006089</td>\n",
       "      <td>-1.236080</td>\n",
       "      <td>-0.784254</td>\n",
       "      <td>-0.378101</td>\n",
       "      <td>-0.189304</td>\n",
       "      <td>0.0</td>\n",
       "      <td>-0.900305</td>\n",
       "      <td>-1.086563</td>\n",
       "      <td>-1.073322</td>\n",
       "      <td>-0.038410</td>\n",
       "      <td>1.083420</td>\n",
       "      <td>-0.801439</td>\n",
       "      <td>0</td>\n",
       "      <td>1</td>\n",
       "      <td>0</td>\n",
       "      <td>1</td>\n",
       "    </tr>\n",
       "    <tr>\n",
       "      <th>2</th>\n",
       "      <td>1.245598</td>\n",
       "      <td>1.984903</td>\n",
       "      <td>-0.471166</td>\n",
       "      <td>0.335566</td>\n",
       "      <td>1.134051</td>\n",
       "      <td>-1.252672</td>\n",
       "      <td>0.746595</td>\n",
       "      <td>-0.103252</td>\n",
       "      <td>1.0</td>\n",
       "      <td>1.303551</td>\n",
       "      <td>0.930731</td>\n",
       "      <td>0.107913</td>\n",
       "      <td>0.142826</td>\n",
       "      <td>-0.495865</td>\n",
       "      <td>0.810152</td>\n",
       "      <td>0</td>\n",
       "      <td>0</td>\n",
       "      <td>0</td>\n",
       "      <td>0</td>\n",
       "    </tr>\n",
       "    <tr>\n",
       "      <th>3</th>\n",
       "      <td>-0.848970</td>\n",
       "      <td>-1.031093</td>\n",
       "      <td>-0.330201</td>\n",
       "      <td>-0.646692</td>\n",
       "      <td>-0.697187</td>\n",
       "      <td>-0.571337</td>\n",
       "      <td>-1.022787</td>\n",
       "      <td>-1.049828</td>\n",
       "      <td>0.0</td>\n",
       "      <td>0.207362</td>\n",
       "      <td>-0.041031</td>\n",
       "      <td>-0.231702</td>\n",
       "      <td>0.370728</td>\n",
       "      <td>-0.070784</td>\n",
       "      <td>-0.733684</td>\n",
       "      <td>0</td>\n",
       "      <td>1</td>\n",
       "      <td>0</td>\n",
       "      <td>1</td>\n",
       "    </tr>\n",
       "    <tr>\n",
       "      <th>4</th>\n",
       "      <td>-1.148194</td>\n",
       "      <td>0.508990</td>\n",
       "      <td>-2.162737</td>\n",
       "      <td>0.634514</td>\n",
       "      <td>0.357789</td>\n",
       "      <td>1.557835</td>\n",
       "      <td>2.596563</td>\n",
       "      <td>-0.017199</td>\n",
       "      <td>1.0</td>\n",
       "      <td>0.143264</td>\n",
       "      <td>0.200290</td>\n",
       "      <td>0.130719</td>\n",
       "      <td>0.282034</td>\n",
       "      <td>-0.225400</td>\n",
       "      <td>-1.061165</td>\n",
       "      <td>1</td>\n",
       "      <td>0</td>\n",
       "      <td>0</td>\n",
       "      <td>0</td>\n",
       "    </tr>\n",
       "  </tbody>\n",
       "</table>\n",
       "</div>"
      ],
      "text/plain": [
       "   Pregnancies   Glucose  BloodPressure  SkinThickness   Insulin       BMI  \\\n",
       "0     0.647150  0.861926       0.092691       0.634514  1.447693  0.209359   \n",
       "1    -0.848970 -1.159433      -0.330201      -0.006089 -1.236080 -0.784254   \n",
       "2     1.245598  1.984903      -0.471166       0.335566  1.134051 -1.252672   \n",
       "3    -0.848970 -1.031093      -0.330201      -0.646692 -0.697187 -0.571337   \n",
       "4    -1.148194  0.508990      -2.162737       0.634514  0.357789  1.557835   \n",
       "\n",
       "   DiabetesPedigreeFunction       Age  Outcome  glucose_age_ratio  \\\n",
       "0                  0.588927  1.445691      1.0          -0.738863   \n",
       "1                 -0.378101 -0.189304      0.0          -0.900305   \n",
       "2                  0.746595 -0.103252      1.0           1.303551   \n",
       "3                 -1.022787 -1.049828      0.0           0.207362   \n",
       "4                  2.596563 -0.017199      1.0           0.143264   \n",
       "\n",
       "   insulin_age_ratio  insulin_glucose_ratio  skinthickness_age_ratio  \\\n",
       "0           0.121026               1.037129                -0.641495   \n",
       "1          -1.086563              -1.073322                -0.038410   \n",
       "2           0.930731               0.107913                 0.142826   \n",
       "3          -0.041031              -0.231702                 0.370728   \n",
       "4           0.200290               0.130719                 0.282034   \n",
       "\n",
       "   skinthickness_insulin_ratio  skinthickness_pregnancies_ratio  \\\n",
       "0                    -0.502557                         0.230044   \n",
       "1                     1.083420                        -0.801439   \n",
       "2                    -0.495865                         0.810152   \n",
       "3                    -0.070784                        -0.733684   \n",
       "4                    -0.225400                        -1.061165   \n",
       "\n",
       "   BM_DESC_Obese  BM_DESC_Over  BM_DESC_Under  INSULIN_DESC_Normal  \n",
       "0              1             0              0                    0  \n",
       "1              0             1              0                    1  \n",
       "2              0             0              0                    0  \n",
       "3              0             1              0                    1  \n",
       "4              1             0              0                    0  "
      ]
     },
     "execution_count": 46,
     "metadata": {},
     "output_type": "execute_result"
    }
   ],
   "source": [
    "df.head()"
   ]
  },
  {
   "cell_type": "code",
   "execution_count": 47,
   "id": "3b7817f3",
   "metadata": {},
   "outputs": [],
   "source": [
    "y = df[\"Outcome\"]\n",
    "X = df.drop([\"Outcome\", \"BM_DESC_Under\"], axis=1)"
   ]
  },
  {
   "cell_type": "code",
   "execution_count": 48,
   "id": "af066a96",
   "metadata": {},
   "outputs": [
    {
     "data": {
      "text/html": [
       "<div>\n",
       "<style scoped>\n",
       "    .dataframe tbody tr th:only-of-type {\n",
       "        vertical-align: middle;\n",
       "    }\n",
       "\n",
       "    .dataframe tbody tr th {\n",
       "        vertical-align: top;\n",
       "    }\n",
       "\n",
       "    .dataframe thead th {\n",
       "        text-align: right;\n",
       "    }\n",
       "</style>\n",
       "<table border=\"1\" class=\"dataframe\">\n",
       "  <thead>\n",
       "    <tr style=\"text-align: right;\">\n",
       "      <th></th>\n",
       "      <th>Pregnancies</th>\n",
       "      <th>Glucose</th>\n",
       "      <th>BloodPressure</th>\n",
       "      <th>SkinThickness</th>\n",
       "      <th>Insulin</th>\n",
       "      <th>BMI</th>\n",
       "      <th>DiabetesPedigreeFunction</th>\n",
       "      <th>Age</th>\n",
       "      <th>glucose_age_ratio</th>\n",
       "      <th>insulin_age_ratio</th>\n",
       "      <th>insulin_glucose_ratio</th>\n",
       "      <th>skinthickness_age_ratio</th>\n",
       "      <th>skinthickness_insulin_ratio</th>\n",
       "      <th>skinthickness_pregnancies_ratio</th>\n",
       "      <th>BM_DESC_Obese</th>\n",
       "      <th>BM_DESC_Over</th>\n",
       "      <th>INSULIN_DESC_Normal</th>\n",
       "    </tr>\n",
       "  </thead>\n",
       "  <tbody>\n",
       "    <tr>\n",
       "      <th>0</th>\n",
       "      <td>0.647150</td>\n",
       "      <td>0.861926</td>\n",
       "      <td>0.092691</td>\n",
       "      <td>0.634514</td>\n",
       "      <td>1.447693</td>\n",
       "      <td>0.209359</td>\n",
       "      <td>0.588927</td>\n",
       "      <td>1.445691</td>\n",
       "      <td>-0.738863</td>\n",
       "      <td>0.121026</td>\n",
       "      <td>1.037129</td>\n",
       "      <td>-0.641495</td>\n",
       "      <td>-0.502557</td>\n",
       "      <td>0.230044</td>\n",
       "      <td>1</td>\n",
       "      <td>0</td>\n",
       "      <td>0</td>\n",
       "    </tr>\n",
       "    <tr>\n",
       "      <th>1</th>\n",
       "      <td>-0.848970</td>\n",
       "      <td>-1.159433</td>\n",
       "      <td>-0.330201</td>\n",
       "      <td>-0.006089</td>\n",
       "      <td>-1.236080</td>\n",
       "      <td>-0.784254</td>\n",
       "      <td>-0.378101</td>\n",
       "      <td>-0.189304</td>\n",
       "      <td>-0.900305</td>\n",
       "      <td>-1.086563</td>\n",
       "      <td>-1.073322</td>\n",
       "      <td>-0.038410</td>\n",
       "      <td>1.083420</td>\n",
       "      <td>-0.801439</td>\n",
       "      <td>0</td>\n",
       "      <td>1</td>\n",
       "      <td>1</td>\n",
       "    </tr>\n",
       "    <tr>\n",
       "      <th>2</th>\n",
       "      <td>1.245598</td>\n",
       "      <td>1.984903</td>\n",
       "      <td>-0.471166</td>\n",
       "      <td>0.335566</td>\n",
       "      <td>1.134051</td>\n",
       "      <td>-1.252672</td>\n",
       "      <td>0.746595</td>\n",
       "      <td>-0.103252</td>\n",
       "      <td>1.303551</td>\n",
       "      <td>0.930731</td>\n",
       "      <td>0.107913</td>\n",
       "      <td>0.142826</td>\n",
       "      <td>-0.495865</td>\n",
       "      <td>0.810152</td>\n",
       "      <td>0</td>\n",
       "      <td>0</td>\n",
       "      <td>0</td>\n",
       "    </tr>\n",
       "    <tr>\n",
       "      <th>3</th>\n",
       "      <td>-0.848970</td>\n",
       "      <td>-1.031093</td>\n",
       "      <td>-0.330201</td>\n",
       "      <td>-0.646692</td>\n",
       "      <td>-0.697187</td>\n",
       "      <td>-0.571337</td>\n",
       "      <td>-1.022787</td>\n",
       "      <td>-1.049828</td>\n",
       "      <td>0.207362</td>\n",
       "      <td>-0.041031</td>\n",
       "      <td>-0.231702</td>\n",
       "      <td>0.370728</td>\n",
       "      <td>-0.070784</td>\n",
       "      <td>-0.733684</td>\n",
       "      <td>0</td>\n",
       "      <td>1</td>\n",
       "      <td>1</td>\n",
       "    </tr>\n",
       "    <tr>\n",
       "      <th>4</th>\n",
       "      <td>-1.148194</td>\n",
       "      <td>0.508990</td>\n",
       "      <td>-2.162737</td>\n",
       "      <td>0.634514</td>\n",
       "      <td>0.357789</td>\n",
       "      <td>1.557835</td>\n",
       "      <td>2.596563</td>\n",
       "      <td>-0.017199</td>\n",
       "      <td>0.143264</td>\n",
       "      <td>0.200290</td>\n",
       "      <td>0.130719</td>\n",
       "      <td>0.282034</td>\n",
       "      <td>-0.225400</td>\n",
       "      <td>-1.061165</td>\n",
       "      <td>1</td>\n",
       "      <td>0</td>\n",
       "      <td>0</td>\n",
       "    </tr>\n",
       "  </tbody>\n",
       "</table>\n",
       "</div>"
      ],
      "text/plain": [
       "   Pregnancies   Glucose  BloodPressure  SkinThickness   Insulin       BMI  \\\n",
       "0     0.647150  0.861926       0.092691       0.634514  1.447693  0.209359   \n",
       "1    -0.848970 -1.159433      -0.330201      -0.006089 -1.236080 -0.784254   \n",
       "2     1.245598  1.984903      -0.471166       0.335566  1.134051 -1.252672   \n",
       "3    -0.848970 -1.031093      -0.330201      -0.646692 -0.697187 -0.571337   \n",
       "4    -1.148194  0.508990      -2.162737       0.634514  0.357789  1.557835   \n",
       "\n",
       "   DiabetesPedigreeFunction       Age  glucose_age_ratio  insulin_age_ratio  \\\n",
       "0                  0.588927  1.445691          -0.738863           0.121026   \n",
       "1                 -0.378101 -0.189304          -0.900305          -1.086563   \n",
       "2                  0.746595 -0.103252           1.303551           0.930731   \n",
       "3                 -1.022787 -1.049828           0.207362          -0.041031   \n",
       "4                  2.596563 -0.017199           0.143264           0.200290   \n",
       "\n",
       "   insulin_glucose_ratio  skinthickness_age_ratio  \\\n",
       "0               1.037129                -0.641495   \n",
       "1              -1.073322                -0.038410   \n",
       "2               0.107913                 0.142826   \n",
       "3              -0.231702                 0.370728   \n",
       "4               0.130719                 0.282034   \n",
       "\n",
       "   skinthickness_insulin_ratio  skinthickness_pregnancies_ratio  \\\n",
       "0                    -0.502557                         0.230044   \n",
       "1                     1.083420                        -0.801439   \n",
       "2                    -0.495865                         0.810152   \n",
       "3                    -0.070784                        -0.733684   \n",
       "4                    -0.225400                        -1.061165   \n",
       "\n",
       "   BM_DESC_Obese  BM_DESC_Over  INSULIN_DESC_Normal  \n",
       "0              1             0                    0  \n",
       "1              0             1                    1  \n",
       "2              0             0                    0  \n",
       "3              0             1                    1  \n",
       "4              1             0                    0  "
      ]
     },
     "execution_count": 48,
     "metadata": {},
     "output_type": "execute_result"
    }
   ],
   "source": [
    "X.head()"
   ]
  },
  {
   "cell_type": "code",
   "execution_count": 49,
   "id": "1ac01324",
   "metadata": {},
   "outputs": [
    {
     "data": {
      "text/plain": [
       "0    1.0\n",
       "1    0.0\n",
       "2    1.0\n",
       "3    0.0\n",
       "4    1.0\n",
       "Name: Outcome, dtype: float64"
      ]
     },
     "execution_count": 49,
     "metadata": {},
     "output_type": "execute_result"
    }
   ],
   "source": [
    "y.head()"
   ]
  },
  {
   "cell_type": "markdown",
   "id": "ceddc067",
   "metadata": {},
   "source": [
    "### Train-Test Split"
   ]
  },
  {
   "cell_type": "code",
   "execution_count": 50,
   "id": "c9321648",
   "metadata": {},
   "outputs": [],
   "source": [
    "X_train, X_test, y_train, y_test = train_test_split(X, y, test_size=0.2, random_state=42)"
   ]
  },
  {
   "cell_type": "markdown",
   "id": "af6d6681",
   "metadata": {},
   "source": [
    "## RANDOM FOREST CLASSIFIER"
   ]
  },
  {
   "cell_type": "code",
   "execution_count": 51,
   "id": "923197b5",
   "metadata": {},
   "outputs": [
    {
     "name": "stdout",
     "output_type": "stream",
     "text": [
      "              precision    recall  f1-score   support\n",
      "\n",
      "         0.0       0.80      0.82      0.81        96\n",
      "         1.0       0.69      0.66      0.67        58\n",
      "\n",
      "    accuracy                           0.76       154\n",
      "   macro avg       0.74      0.74      0.74       154\n",
      "weighted avg       0.76      0.76      0.76       154\n",
      "\n",
      "[[79 17]\n",
      " [20 38]]\n",
      "Accuracy is  0.7597402597402597\n"
     ]
    }
   ],
   "source": [
    "\n",
    "from sklearn.ensemble import RandomForestClassifier\n",
    "model = RandomForestClassifier(bootstrap=True, ccp_alpha=0.0, class_weight={},\n",
    "                       criterion='gini', max_depth=7, max_features=1.0,\n",
    "                       max_leaf_nodes=None, max_samples=None,\n",
    "                       min_impurity_decrease=0.0005, min_impurity_split=None,\n",
    "                       min_samples_leaf=3, min_samples_split=9,\n",
    "                       min_weight_fraction_leaf=0.0, n_estimators=280,\n",
    "                       n_jobs=-1, oob_score=False, random_state=4846, verbose=0,\n",
    "                       warm_start=False)\n",
    "model.fit(X_train,y_train)\n",
    "y_pred=model.predict(X_test)\n",
    "print(classification_report(y_pred,y_test))\n",
    "print(confusion_matrix(y_pred,y_test))\n",
    "#Accuracy score\n",
    "print('Accuracy is ', accuracy_score(y_pred,y_test))"
   ]
  },
  {
   "cell_type": "markdown",
   "id": "7ce69885",
   "metadata": {},
   "source": [
    "## LOGISTIC REGRESSION"
   ]
  },
  {
   "cell_type": "code",
   "execution_count": 52,
   "id": "bf2c8bd4",
   "metadata": {},
   "outputs": [
    {
     "name": "stdout",
     "output_type": "stream",
     "text": [
      "              precision    recall  f1-score   support\n",
      "\n",
      "         0.0       0.86      0.84      0.85       101\n",
      "         1.0       0.71      0.74      0.72        53\n",
      "\n",
      "    accuracy                           0.81       154\n",
      "   macro avg       0.78      0.79      0.79       154\n",
      "weighted avg       0.81      0.81      0.81       154\n",
      "\n",
      "[[85 16]\n",
      " [14 39]]\n",
      "Accuracy is  0.8051948051948052\n"
     ]
    }
   ],
   "source": [
    "from sklearn.linear_model import LogisticRegression\n",
    "model1 = LogisticRegression()\n",
    "model1.fit(X_train,y_train)\n",
    "prediction = model1.predict(X_test)\n",
    "print(classification_report(prediction,y_test))\n",
    "print(confusion_matrix(prediction,y_test))\n",
    "#Accuracy score\n",
    "print('Accuracy is ', accuracy_score(prediction,y_test))"
   ]
  },
  {
   "cell_type": "markdown",
   "id": "342e54c8",
   "metadata": {},
   "source": [
    "## MLP CLASSIFIER"
   ]
  },
  {
   "cell_type": "code",
   "execution_count": 53,
   "id": "54d1c1b1",
   "metadata": {},
   "outputs": [
    {
     "name": "stdout",
     "output_type": "stream",
     "text": [
      "Accuracy: 80.52%\n"
     ]
    }
   ],
   "source": [
    "from sklearn.neural_network import MLPClassifier\n",
    "model2 = MLPClassifier()\n",
    "model2.fit(X_train,y_train)\n",
    "y_pred2 = model2.predict(X_test)\n",
    "accuracy2 = accuracy_score(y_test, y_pred2)\n",
    "print(\"Accuracy: %.2f%%\" % (accuracy2 * 100))"
   ]
  },
  {
   "cell_type": "markdown",
   "id": "66f43994",
   "metadata": {},
   "source": [
    "## XGBOOST"
   ]
  },
  {
   "cell_type": "code",
   "execution_count": 54,
   "id": "53a2931b",
   "metadata": {},
   "outputs": [
    {
     "name": "stdout",
     "output_type": "stream",
     "text": [
      "[12:02:20] WARNING: C:/Users/Administrator/workspace/xgboost-win64_release_1.5.1/src/learner.cc:1115: Starting in XGBoost 1.3.0, the default evaluation metric used with the objective 'binary:logistic' was changed from 'error' to 'logloss'. Explicitly set eval_metric if you'd like to restore the old behavior.\n",
      "Accuracy: 75.97%\n"
     ]
    }
   ],
   "source": [
    "from xgboost import XGBClassifier, plot_importance\n",
    "\n",
    "# fit model no training data\n",
    "model3 = XGBClassifier()\n",
    "model3.fit(X_train, y_train)\n",
    "\n",
    "y_pred3 = model3.predict(X_test)\n",
    "predictions3 = [round(value) for value in y_pred3]\n",
    "accuracy = accuracy_score(y_test, predictions3)\n",
    "print(\"Accuracy: %.2f%%\" % (accuracy * 100.0))"
   ]
  },
  {
   "cell_type": "code",
   "execution_count": 55,
   "id": "bfda706f",
   "metadata": {},
   "outputs": [
    {
     "data": {
      "text/plain": [
       "<AxesSubplot:title={'center':'Feature importance'}, xlabel='F score', ylabel='Features'>"
      ]
     },
     "execution_count": 55,
     "metadata": {},
     "output_type": "execute_result"
    },
    {
     "data": {
      "image/png": "[encoded data removed]",
      "text/plain": [
       "<Figure size 432x288 with 1 Axes>"
      ]
     },
     "metadata": {
      "needs_background": "light"
     },
     "output_type": "display_data"
    }
   ],
   "source": [
    "plot_importance(model3)"
   ]
  },
  {
   "cell_type": "code",
   "execution_count": null,
   "id": "fbded7fc",
   "metadata": {},
   "outputs": [],
   "source": []
  }
 ],
 "metadata": {
  "kernelspec": {
   "display_name": "Python 3 (ipykernel)",
   "language": "python",
   "name": "python3"
  },
  "language_info": {
   "codemirror_mode": {
    "name": "ipython",
    "version": 3
   },
   "file_extension": ".py",
   "mimetype": "text/x-python",
   "name": "python",
   "nbconvert_exporter": "python",
   "pygments_lexer": "ipython3",
   "version": "3.9.7"
  }
 },
 "nbformat": 4,
 "nbformat_minor": 5
}
